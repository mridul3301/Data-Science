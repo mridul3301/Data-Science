{
 "cells": [
  {
   "cell_type": "markdown",
   "id": "57af7956",
   "metadata": {},
   "source": [
    "### Dates in Python"
   ]
  },
  {
   "cell_type": "markdown",
   "id": "1fdbea17",
   "metadata": {},
   "source": [
    "Python has a special date class, called \"date\", which we will use to represent dates. A date, like a string, or a number, or a numpy array, has special rules for creating it and methods for working with it."
   ]
  },
  {
   "cell_type": "code",
   "execution_count": 1,
   "id": "08ef3d58",
   "metadata": {},
   "outputs": [],
   "source": [
    "import numpy as np\n",
    "import pandas as pd"
   ]
  },
  {
   "cell_type": "markdown",
   "id": "3d1a9bdf",
   "metadata": {},
   "source": [
    "To create a date object, we start by importing the date class. The collection of date and time-related classes are stored in the \"datetime\" package. We create a date using the date() function. "
   ]
  },
  {
   "cell_type": "code",
   "execution_count": 2,
   "id": "3fc28672",
   "metadata": {},
   "outputs": [],
   "source": [
    "#Import date from datetime\n",
    "from datetime import date\n",
    "\n",
    "#Create dates (YYYY, MM, DD)\n",
    "two_hurricanes_dates = [date(2016, 10, 7), date(2017, 6, 21)]"
   ]
  },
  {
   "cell_type": "markdown",
   "id": "ddfc1e35",
   "metadata": {},
   "source": [
    "Accessing individual components of date using the date's attributes."
   ]
  },
  {
   "cell_type": "code",
   "execution_count": 3,
   "id": "11ec65d3",
   "metadata": {},
   "outputs": [
    {
     "name": "stdout",
     "output_type": "stream",
     "text": [
      "2016\n",
      "10\n",
      "7\n"
     ]
    }
   ],
   "source": [
    "print(two_hurricanes_dates[0].year)\n",
    "print(two_hurricanes_dates[0].month)\n",
    "print(two_hurricanes_dates[0].day)"
   ]
  },
  {
   "cell_type": "markdown",
   "id": "b0aaf654",
   "metadata": {},
   "source": [
    "We can find the weekday of a date using *.weekday()* method."
   ]
  },
  {
   "cell_type": "code",
   "execution_count": 4,
   "id": "b76fcd8f",
   "metadata": {},
   "outputs": [
    {
     "name": "stdout",
     "output_type": "stream",
     "text": [
      "4\n"
     ]
    }
   ],
   "source": [
    "print(two_hurricanes_dates[0].weekday())"
   ]
  },
  {
   "cell_type": "code",
   "execution_count": 5,
   "id": "81d0d6a3",
   "metadata": {},
   "outputs": [
    {
     "name": "stdout",
     "output_type": "stream",
     "text": [
      "0\n"
     ]
    }
   ],
   "source": [
    "##Example\n",
    "###############\n",
    "# Import date from datetime\n",
    "from datetime import date\n",
    "\n",
    "# Create a date object\n",
    "hurricane_andrew = date(1992, 8, 24)\n",
    "\n",
    "# Which day of the week is the date?\n",
    "print(hurricane_andrew.weekday())"
   ]
  },
  {
   "cell_type": "code",
   "execution_count": 6,
   "id": "9330beab",
   "metadata": {},
   "outputs": [],
   "source": [
    "#import pickle\n",
    "import pickle"
   ]
  },
  {
   "cell_type": "code",
   "execution_count": 7,
   "id": "87a9e534",
   "metadata": {},
   "outputs": [],
   "source": [
    "with open('florida_hurricane_dates.pkl', 'rb') as f:\n",
    "    florida_hurricane_dates = pickle.load(f)\n"
   ]
  },
  {
   "cell_type": "code",
   "execution_count": 8,
   "id": "09c5f656",
   "metadata": {},
   "outputs": [
    {
     "data": {
      "text/plain": [
       "[datetime.date(1988, 8, 4),\n",
       " datetime.date(1990, 10, 12),\n",
       " datetime.date(2003, 4, 20),\n",
       " datetime.date(1971, 9, 1),\n",
       " datetime.date(1988, 8, 23),\n",
       " datetime.date(1994, 8, 15),\n",
       " datetime.date(2002, 8, 4),\n",
       " datetime.date(1988, 5, 30),\n",
       " datetime.date(2003, 9, 13),\n",
       " datetime.date(2009, 8, 21),\n",
       " datetime.date(1978, 6, 22),\n",
       " datetime.date(1969, 6, 9),\n",
       " datetime.date(1976, 6, 11),\n",
       " datetime.date(1976, 8, 19),\n",
       " datetime.date(1966, 6, 9),\n",
       " datetime.date(1968, 7, 5),\n",
       " datetime.date(1987, 11, 4),\n",
       " datetime.date(1988, 8, 13),\n",
       " datetime.date(2007, 12, 13),\n",
       " datetime.date(1994, 11, 16),\n",
       " datetime.date(2003, 9, 6),\n",
       " datetime.date(1971, 8, 13),\n",
       " datetime.date(1981, 8, 17),\n",
       " datetime.date(1998, 9, 25),\n",
       " datetime.date(1968, 9, 26),\n",
       " datetime.date(1968, 6, 4),\n",
       " datetime.date(1998, 11, 5),\n",
       " datetime.date(2008, 8, 18),\n",
       " datetime.date(1987, 8, 14),\n",
       " datetime.date(1988, 11, 23),\n",
       " datetime.date(2010, 9, 29),\n",
       " datetime.date(1985, 7, 23),\n",
       " datetime.date(2017, 7, 31),\n",
       " datetime.date(1955, 8, 21),\n",
       " datetime.date(1986, 6, 26),\n",
       " datetime.date(1963, 10, 21),\n",
       " datetime.date(2011, 10, 28),\n",
       " datetime.date(2011, 11, 9),\n",
       " datetime.date(1997, 7, 19),\n",
       " datetime.date(2007, 6, 2),\n",
       " datetime.date(2002, 9, 14),\n",
       " datetime.date(1992, 9, 29),\n",
       " datetime.date(1971, 10, 13),\n",
       " datetime.date(1962, 8, 26),\n",
       " datetime.date(1964, 8, 27),\n",
       " datetime.date(1984, 9, 27),\n",
       " datetime.date(1973, 9, 25),\n",
       " datetime.date(1969, 10, 21),\n",
       " datetime.date(1994, 7, 3),\n",
       " datetime.date(1958, 9, 4),\n",
       " datetime.date(1985, 11, 21),\n",
       " datetime.date(2011, 9, 3),\n",
       " datetime.date(1972, 6, 19),\n",
       " datetime.date(1991, 6, 30),\n",
       " datetime.date(2004, 8, 12),\n",
       " datetime.date(2007, 9, 8),\n",
       " datetime.date(1952, 2, 3),\n",
       " datetime.date(1965, 9, 30),\n",
       " datetime.date(2000, 9, 22),\n",
       " datetime.date(2002, 9, 26),\n",
       " datetime.date(1950, 9, 5),\n",
       " datetime.date(1966, 10, 4),\n",
       " datetime.date(1970, 5, 25),\n",
       " datetime.date(1979, 9, 24),\n",
       " datetime.date(1960, 9, 23),\n",
       " datetime.date(2007, 8, 23),\n",
       " datetime.date(2009, 8, 16),\n",
       " datetime.date(1996, 10, 18),\n",
       " datetime.date(2012, 10, 25),\n",
       " datetime.date(2011, 8, 25),\n",
       " datetime.date(1951, 5, 18),\n",
       " datetime.date(1980, 8, 7),\n",
       " datetime.date(1979, 9, 3),\n",
       " datetime.date(1953, 9, 26),\n",
       " datetime.date(1968, 10, 19),\n",
       " datetime.date(2009, 11, 9),\n",
       " datetime.date(1999, 8, 29),\n",
       " datetime.date(2015, 10, 1),\n",
       " datetime.date(2008, 9, 2),\n",
       " datetime.date(2004, 10, 10),\n",
       " datetime.date(2004, 9, 16),\n",
       " datetime.date(1992, 8, 24),\n",
       " datetime.date(2000, 9, 9),\n",
       " datetime.date(1971, 9, 16),\n",
       " datetime.date(1996, 9, 2),\n",
       " datetime.date(1998, 9, 3),\n",
       " datetime.date(1951, 10, 2),\n",
       " datetime.date(1979, 9, 12),\n",
       " datetime.date(2007, 10, 31),\n",
       " datetime.date(1953, 10, 9),\n",
       " datetime.date(1952, 8, 30),\n",
       " datetime.date(1969, 9, 7),\n",
       " datetime.date(2015, 8, 30),\n",
       " datetime.date(1959, 10, 8),\n",
       " datetime.date(2002, 7, 13),\n",
       " datetime.date(1961, 10, 29),\n",
       " datetime.date(2007, 5, 9),\n",
       " datetime.date(2016, 10, 7),\n",
       " datetime.date(1964, 9, 20),\n",
       " datetime.date(1979, 7, 11),\n",
       " datetime.date(1950, 10, 18),\n",
       " datetime.date(2008, 8, 31),\n",
       " datetime.date(2012, 8, 25),\n",
       " datetime.date(1966, 7, 24),\n",
       " datetime.date(2010, 8, 10),\n",
       " datetime.date(2005, 8, 25),\n",
       " datetime.date(2003, 6, 30),\n",
       " datetime.date(1956, 7, 6),\n",
       " datetime.date(1974, 9, 8),\n",
       " datetime.date(1966, 6, 30),\n",
       " datetime.date(2016, 9, 14),\n",
       " datetime.date(1968, 6, 18),\n",
       " datetime.date(1982, 9, 11),\n",
       " datetime.date(1976, 9, 13),\n",
       " datetime.date(1975, 7, 29),\n",
       " datetime.date(2007, 9, 13),\n",
       " datetime.date(1970, 9, 27),\n",
       " datetime.date(1969, 10, 2),\n",
       " datetime.date(2010, 8, 31),\n",
       " datetime.date(1995, 10, 4),\n",
       " datetime.date(1969, 8, 29),\n",
       " datetime.date(1984, 10, 26),\n",
       " datetime.date(1973, 9, 3),\n",
       " datetime.date(1976, 5, 23),\n",
       " datetime.date(2001, 11, 5),\n",
       " datetime.date(2010, 6, 30),\n",
       " datetime.date(1985, 10, 10),\n",
       " datetime.date(1970, 7, 22),\n",
       " datetime.date(1972, 5, 28),\n",
       " datetime.date(1982, 6, 18),\n",
       " datetime.date(2001, 8, 6),\n",
       " datetime.date(1953, 8, 29),\n",
       " datetime.date(1965, 9, 8),\n",
       " datetime.date(1964, 9, 10),\n",
       " datetime.date(1959, 10, 18),\n",
       " datetime.date(1957, 6, 8),\n",
       " datetime.date(1988, 9, 10),\n",
       " datetime.date(2005, 6, 11),\n",
       " datetime.date(1953, 6, 6),\n",
       " datetime.date(2003, 8, 30),\n",
       " datetime.date(2002, 10, 3),\n",
       " datetime.date(1968, 8, 10),\n",
       " datetime.date(1999, 10, 15),\n",
       " datetime.date(2002, 9, 4),\n",
       " datetime.date(2001, 6, 12),\n",
       " datetime.date(2017, 9, 10),\n",
       " datetime.date(2005, 10, 5),\n",
       " datetime.date(2005, 7, 10),\n",
       " datetime.date(1973, 6, 7),\n",
       " datetime.date(1999, 9, 15),\n",
       " datetime.date(2005, 9, 20),\n",
       " datetime.date(1995, 6, 5),\n",
       " datetime.date(2003, 7, 25),\n",
       " datetime.date(2004, 9, 13),\n",
       " datetime.date(1964, 6, 6),\n",
       " datetime.date(1973, 6, 23),\n",
       " datetime.date(2005, 9, 12),\n",
       " datetime.date(2012, 6, 23),\n",
       " datetime.date(1961, 9, 11),\n",
       " datetime.date(1990, 5, 25),\n",
       " datetime.date(2017, 6, 21),\n",
       " datetime.date(1975, 6, 27),\n",
       " datetime.date(1959, 6, 18),\n",
       " datetime.date(2004, 9, 5),\n",
       " datetime.date(1987, 10, 12),\n",
       " datetime.date(1995, 7, 27),\n",
       " datetime.date(1964, 10, 14),\n",
       " datetime.date(1970, 8, 6),\n",
       " datetime.date(1969, 10, 1),\n",
       " datetime.date(1996, 10, 8),\n",
       " datetime.date(1968, 8, 28),\n",
       " datetime.date(1956, 10, 15),\n",
       " datetime.date(1975, 9, 23),\n",
       " datetime.date(1970, 9, 13),\n",
       " datetime.date(1975, 10, 16),\n",
       " datetime.date(1990, 10, 9),\n",
       " datetime.date(2005, 10, 24),\n",
       " datetime.date(1950, 8, 31),\n",
       " datetime.date(2000, 10, 3),\n",
       " datetime.date(2002, 10, 11),\n",
       " datetime.date(1983, 8, 28),\n",
       " datetime.date(1960, 7, 29),\n",
       " datetime.date(1950, 10, 21),\n",
       " datetime.date(1995, 8, 2),\n",
       " datetime.date(1956, 9, 24),\n",
       " datetime.date(2016, 9, 1),\n",
       " datetime.date(1993, 6, 1),\n",
       " datetime.date(1987, 9, 7),\n",
       " datetime.date(2012, 5, 28),\n",
       " datetime.date(1995, 8, 23),\n",
       " datetime.date(1969, 8, 18),\n",
       " datetime.date(2001, 9, 14),\n",
       " datetime.date(2000, 8, 23),\n",
       " datetime.date(1974, 10, 7),\n",
       " datetime.date(1986, 8, 13),\n",
       " datetime.date(1977, 8, 27),\n",
       " datetime.date(2008, 7, 16),\n",
       " datetime.date(1996, 7, 11),\n",
       " datetime.date(1988, 9, 4),\n",
       " datetime.date(1975, 10, 1),\n",
       " datetime.date(2003, 8, 14),\n",
       " datetime.date(1957, 9, 8),\n",
       " datetime.date(2005, 7, 6),\n",
       " datetime.date(1960, 9, 15),\n",
       " datetime.date(1974, 9, 27),\n",
       " datetime.date(1965, 6, 15),\n",
       " datetime.date(1999, 9, 21),\n",
       " datetime.date(2004, 8, 13),\n",
       " datetime.date(1994, 10, 2),\n",
       " datetime.date(1971, 8, 10),\n",
       " datetime.date(2008, 7, 22),\n",
       " datetime.date(2000, 9, 18),\n",
       " datetime.date(1960, 9, 10),\n",
       " datetime.date(2006, 6, 13),\n",
       " datetime.date(2017, 10, 29),\n",
       " datetime.date(1972, 9, 5),\n",
       " datetime.date(1964, 10, 5),\n",
       " datetime.date(1991, 10, 16),\n",
       " datetime.date(1969, 9, 21),\n",
       " datetime.date(1998, 9, 20),\n",
       " datetime.date(1977, 9, 5),\n",
       " datetime.date(1988, 9, 13),\n",
       " datetime.date(1974, 6, 25),\n",
       " datetime.date(2010, 7, 23),\n",
       " datetime.date(2007, 9, 22),\n",
       " datetime.date(1984, 9, 9),\n",
       " datetime.date(1989, 9, 22),\n",
       " datetime.date(1992, 6, 25),\n",
       " datetime.date(1971, 8, 29),\n",
       " datetime.date(1953, 9, 20),\n",
       " datetime.date(1985, 8, 15),\n",
       " datetime.date(2016, 6, 6),\n",
       " datetime.date(2006, 8, 30),\n",
       " datetime.date(1980, 11, 18),\n",
       " datetime.date(2011, 7, 18)]"
      ]
     },
     "execution_count": 8,
     "metadata": {},
     "output_type": "execute_result"
    }
   ],
   "source": [
    "florida_hurricane_dates"
   ]
  },
  {
   "cell_type": "code",
   "execution_count": 9,
   "id": "86a4910e",
   "metadata": {},
   "outputs": [
    {
     "name": "stdout",
     "output_type": "stream",
     "text": [
      "10\n"
     ]
    }
   ],
   "source": [
    "##Example\n",
    "# Counter for how many before June 1\n",
    "early_hurricanes = 0\n",
    "\n",
    "# We loop over the dates\n",
    "for hurricane in florida_hurricane_dates:\n",
    "  # Check if the month is before June (month number 6)\n",
    "  if hurricane.month < 6:\n",
    "    early_hurricanes = early_hurricanes + 1\n",
    "    \n",
    "print(early_hurricanes)"
   ]
  },
  {
   "cell_type": "markdown",
   "id": "9a1c2a5f",
   "metadata": {},
   "source": [
    "####################################################################"
   ]
  },
  {
   "cell_type": "markdown",
   "id": "e86f7989",
   "metadata": {},
   "source": [
    "### Math with Dates"
   ]
  },
  {
   "cell_type": "code",
   "execution_count": 10,
   "id": "d4da80b4",
   "metadata": {},
   "outputs": [],
   "source": [
    "#Create dates\n",
    "d1 = date(2017, 11, 5)\n",
    "d2 = date(2017, 12, 4)\n",
    "\n",
    "#putting dates in a list (acts similar to calander)\n",
    "l = [d1, d2]"
   ]
  },
  {
   "cell_type": "code",
   "execution_count": 11,
   "id": "3596a1bc",
   "metadata": {},
   "outputs": [
    {
     "name": "stdout",
     "output_type": "stream",
     "text": [
      "2017-11-05\n"
     ]
    }
   ],
   "source": [
    "#prints the minimum date value in the list\n",
    "print(min(l))"
   ]
  },
  {
   "cell_type": "markdown",
   "id": "1885b8b5",
   "metadata": {},
   "source": [
    "When we subtract two dates, we get an object of type \"*timedelta*\". Timedeltas give us the elapsed time between events."
   ]
  },
  {
   "cell_type": "code",
   "execution_count": 12,
   "id": "4e5b9d95",
   "metadata": {},
   "outputs": [
    {
     "name": "stdout",
     "output_type": "stream",
     "text": [
      "29\n"
     ]
    }
   ],
   "source": [
    "#Subtract Dates\n",
    "delta = d2 - d1\n",
    "\n",
    "print(delta.days)"
   ]
  },
  {
   "cell_type": "code",
   "execution_count": 13,
   "id": "05c2c48a",
   "metadata": {},
   "outputs": [
    {
     "name": "stdout",
     "output_type": "stream",
     "text": [
      "2017-12-04\n"
     ]
    }
   ],
   "source": [
    "#We can also use time delta in following manner:\n",
    "\n",
    "#import timedelta\n",
    "from datetime import timedelta\n",
    "\n",
    "#create a 29 day timedelta\n",
    "td = timedelta(days = 29)\n",
    "\n",
    "#Now, if we add 29 to the date d2, we'll wet d2.\n",
    "print(d1+td)"
   ]
  },
  {
   "cell_type": "code",
   "execution_count": 14,
   "id": "50be4459",
   "metadata": {},
   "outputs": [
    {
     "name": "stdout",
     "output_type": "stream",
     "text": [
      "218\n"
     ]
    }
   ],
   "source": [
    "##Example\n",
    "# Import date\n",
    "from datetime import date\n",
    "\n",
    "# Create a date object for May 9th, 2007\n",
    "start = date(2007, 5, 9)\n",
    "\n",
    "# Create a date object for December 13th, 2007\n",
    "end = date(2007, 12, 13)\n",
    "\n",
    "# Subtract the two dates and print the number of days\n",
    "print((end - start).days)"
   ]
  },
  {
   "cell_type": "code",
   "execution_count": 15,
   "id": "af9976be",
   "metadata": {},
   "outputs": [
    {
     "name": "stdout",
     "output_type": "stream",
     "text": [
      "{1: 0, 2: 1, 3: 0, 4: 1, 5: 8, 6: 32, 7: 21, 8: 49, 9: 70, 10: 43, 11: 9, 12: 1}\n"
     ]
    }
   ],
   "source": [
    "##Example\n",
    "# A dictionary to count hurricanes per calendar month\n",
    "hurricanes_each_month = {1: 0, 2: 0, 3: 0, 4: 0, 5: 0, 6:0, 7: 0, 8:0, 9:0, 10:0, 11:0, 12:0}\n",
    "\n",
    "# Loop over all hurricanes\n",
    "for hurricane in florida_hurricane_dates:\n",
    "  # Pull out the month\n",
    "  month = hurricane.month\n",
    "  # Increment the count in your dictionary by one\n",
    "  hurricanes_each_month[month] +=1\n",
    "  \n",
    "print(hurricanes_each_month)"
   ]
  },
  {
   "cell_type": "markdown",
   "id": "309669fc",
   "metadata": {},
   "source": [
    "##############################################################################"
   ]
  },
  {
   "cell_type": "markdown",
   "id": "49e26819",
   "metadata": {},
   "source": [
    "### Turning dates into strings"
   ]
  },
  {
   "cell_type": "markdown",
   "id": "6ef14016",
   "metadata": {},
   "source": [
    "We want to put dates back into strings when, for example, we want to print results, but also if we want to put dates into filenames, or if we want to write dates out to CSV or Excel files."
   ]
  },
  {
   "cell_type": "markdown",
   "id": "ad62b6ac",
   "metadata": {},
   "source": [
    "For example, let's create a date and see how Python prints it by default."
   ]
  },
  {
   "cell_type": "code",
   "execution_count": 16,
   "id": "e1aa2f9a",
   "metadata": {},
   "outputs": [
    {
     "name": "stdout",
     "output_type": "stream",
     "text": [
      "2017-11-05\n"
     ]
    }
   ],
   "source": [
    "d = date(2017, 11, 5)\n",
    "\n",
    "#ISO Format : YYYY-MM-DD\n",
    "print(d)"
   ]
  },
  {
   "cell_type": "markdown",
   "id": "5999f6a2",
   "metadata": {},
   "source": [
    "#### strftime:"
   ]
  },
  {
   "cell_type": "code",
   "execution_count": 17,
   "id": "82f0843f",
   "metadata": {},
   "outputs": [
    {
     "name": "stdout",
     "output_type": "stream",
     "text": [
      "2017\n"
     ]
    }
   ],
   "source": [
    "d = date(2017, 1, 5)\n",
    "\n",
    "print(d.strftime(\"%Y\"))"
   ]
  },
  {
   "cell_type": "code",
   "execution_count": 18,
   "id": "f1a5bb44",
   "metadata": {},
   "outputs": [
    {
     "name": "stdout",
     "output_type": "stream",
     "text": [
      "2017/01/05\n"
     ]
    }
   ],
   "source": [
    "print(d.strftime(\"%Y/%m/%d\"))"
   ]
  },
  {
   "cell_type": "code",
   "execution_count": 19,
   "id": "376f1d47",
   "metadata": {},
   "outputs": [
    {
     "name": "stdout",
     "output_type": "stream",
     "text": [
      "ISO: Our earliest hurricane date: 1950-08-31\n",
      "US: Our earliest hurricane date: 08/31/1950\n"
     ]
    }
   ],
   "source": [
    "##Example\n",
    "# Assign the earliest date to first_date\n",
    "first_date = min(florida_hurricane_dates)\n",
    "\n",
    "# Convert to ISO and US formats\n",
    "iso = \"Our earliest hurricane date: \" + first_date.isoformat()\n",
    "us = \"Our earliest hurricane date: \" + first_date.strftime(\"%m/%d/%Y\")\n",
    "\n",
    "print(\"ISO: \" + iso)\n",
    "print(\"US: \" + us)"
   ]
  },
  {
   "cell_type": "code",
   "execution_count": 20,
   "id": "50f3c0fe",
   "metadata": {},
   "outputs": [
    {
     "name": "stdout",
     "output_type": "stream",
     "text": [
      "1992-08\n"
     ]
    }
   ],
   "source": [
    "##Example\n",
    "# Import date\n",
    "from datetime import date\n",
    "\n",
    "# Create a date object\n",
    "andrew = date(1992, 8, 26)\n",
    "\n",
    "# Print the date in the format 'YYYY-MM'\n",
    "print(andrew.strftime(\"%Y-%m\"))"
   ]
  },
  {
   "cell_type": "code",
   "execution_count": 21,
   "id": "7b9006e0",
   "metadata": {},
   "outputs": [
    {
     "name": "stdout",
     "output_type": "stream",
     "text": [
      "August (1992)\n"
     ]
    }
   ],
   "source": [
    "##Example\n",
    "# Import date\n",
    "from datetime import date\n",
    "\n",
    "# Create a date object\n",
    "andrew = date(1992, 8, 26)\n",
    "\n",
    "# Print the date in the format 'MONTH (YYYY)'\n",
    "print(andrew.strftime('%B (%Y)'))"
   ]
  },
  {
   "cell_type": "code",
   "execution_count": 22,
   "id": "a717005c",
   "metadata": {},
   "outputs": [
    {
     "name": "stdout",
     "output_type": "stream",
     "text": [
      "1992-239\n"
     ]
    }
   ],
   "source": [
    "##Example\n",
    "# Import date\n",
    "from datetime import date\n",
    "\n",
    "# Create a date object\n",
    "andrew = date(1992, 8, 26)\n",
    "\n",
    "# Print the date in the format 'YYYY-DDD'\n",
    "print(andrew.strftime(\"%Y-%j\"))"
   ]
  }
 ],
 "metadata": {
  "kernelspec": {
   "display_name": "Python 3 (ipykernel)",
   "language": "python",
   "name": "python3"
  },
  "language_info": {
   "codemirror_mode": {
    "name": "ipython",
    "version": 3
   },
   "file_extension": ".py",
   "mimetype": "text/x-python",
   "name": "python",
   "nbconvert_exporter": "python",
   "pygments_lexer": "ipython3",
   "version": "3.9.12"
  }
 },
 "nbformat": 4,
 "nbformat_minor": 5
}
