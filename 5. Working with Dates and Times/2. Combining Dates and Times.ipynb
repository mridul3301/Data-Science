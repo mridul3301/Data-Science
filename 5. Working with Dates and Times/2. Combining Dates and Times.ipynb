{
 "cells": [
  {
   "cell_type": "markdown",
   "id": "a6e7c264",
   "metadata": {},
   "source": [
    "### Dates and Times"
   ]
  },
  {
   "attachments": {
    "image.png": {
     "image/png": "[encoded data removed]"
    }
   },
   "cell_type": "markdown",
   "id": "49f9e849",
   "metadata": {},
   "source": [
    "![image.png](attachment:image.png)"
   ]
  },
  {
   "cell_type": "markdown",
   "id": "d5cf5c0f",
   "metadata": {},
   "source": [
    "First, we import datetime module from datetime package."
   ]
  },
  {
   "cell_type": "code",
   "execution_count": 1,
   "id": "dd59ff46",
   "metadata": {},
   "outputs": [],
   "source": [
    "#Import\n",
    "from datetime import datetime\n",
    "\n",
    "dt = datetime(2017, 10, 1, 15, 23, 25)"
   ]
  },
  {
   "cell_type": "code",
   "execution_count": 2,
   "id": "163c064a",
   "metadata": {},
   "outputs": [
    {
     "name": "stdout",
     "output_type": "stream",
     "text": [
      "2017-10-01 15:23:25\n"
     ]
    }
   ],
   "source": [
    "print(dt)"
   ]
  },
  {
   "cell_type": "markdown",
   "id": "fb6cfd21",
   "metadata": {},
   "source": [
    "All the arguments should be a whole number. And if we want to add microseconds, we can add another argument but it will be in terms of microsecond."
   ]
  },
  {
   "cell_type": "code",
   "execution_count": 3,
   "id": "0d2f97b3",
   "metadata": {},
   "outputs": [],
   "source": [
    "dt = datetime(2017, 10, 1, 15, 23, 25, 500000)"
   ]
  },
  {
   "cell_type": "code",
   "execution_count": 4,
   "id": "cd2574f0",
   "metadata": {},
   "outputs": [
    {
     "name": "stdout",
     "output_type": "stream",
     "text": [
      "2017-10-01 15:23:25.500000\n"
     ]
    }
   ],
   "source": [
    "print(dt)"
   ]
  },
  {
   "cell_type": "markdown",
   "id": "e2449317",
   "metadata": {},
   "source": [
    "Datetime defaults to zero microsecond."
   ]
  },
  {
   "cell_type": "markdown",
   "id": "bef77a25",
   "metadata": {},
   "source": [
    "We can also replace parts of a datetime:"
   ]
  },
  {
   "cell_type": "code",
   "execution_count": 5,
   "id": "71e54a36",
   "metadata": {},
   "outputs": [
    {
     "name": "stdout",
     "output_type": "stream",
     "text": [
      "2017-10-01 15:00:00\n"
     ]
    }
   ],
   "source": [
    "dt_hr= dt.replace(minute = 0, second = 0, microsecond = 0)\n",
    "print(dt_hr)"
   ]
  },
  {
   "cell_type": "code",
   "execution_count": 6,
   "id": "4db168f9",
   "metadata": {},
   "outputs": [
    {
     "name": "stdout",
     "output_type": "stream",
     "text": [
      "2017-10-01T15:26:26\n"
     ]
    }
   ],
   "source": [
    "##Example\n",
    "# Import datetime\n",
    "from datetime import datetime\n",
    "\n",
    "# Create a datetime object\n",
    "dt = datetime(2017, 10, 1, 15, 26, 26)\n",
    "\n",
    "# Print the results in ISO 8601 format\n",
    "print(dt.isoformat())"
   ]
  },
  {
   "cell_type": "code",
   "execution_count": 7,
   "id": "3347d667",
   "metadata": {},
   "outputs": [
    {
     "name": "stdout",
     "output_type": "stream",
     "text": [
      "2017-12-31T15:19:13\n"
     ]
    }
   ],
   "source": [
    "##Example\n",
    "# Import datetime\n",
    "from datetime import datetime\n",
    "\n",
    "# Create a datetime object\n",
    "dt = datetime(2017, 12, 31, 15, 19, 13)\n",
    "\n",
    "# Print the results in ISO 8601 format\n",
    "print(dt.isoformat())"
   ]
  },
  {
   "cell_type": "code",
   "execution_count": 8,
   "id": "c04d8d2e",
   "metadata": {},
   "outputs": [
    {
     "name": "stdout",
     "output_type": "stream",
     "text": [
      "1917-12-31 15:19:13\n"
     ]
    }
   ],
   "source": [
    "##Example\n",
    "# Import datetime\n",
    "from datetime import datetime\n",
    "\n",
    "# Create a datetime object\n",
    "dt = datetime(2017, 12, 31, 15, 19, 13)\n",
    "\n",
    "# Replace the year with 1917\n",
    "dt_old = dt.replace(year = 1917)\n",
    "\n",
    "# Print the results in ISO 8601 format\n",
    "print(dt_old)"
   ]
  },
  {
   "cell_type": "code",
   "execution_count": 9,
   "id": "0f294bb3",
   "metadata": {},
   "outputs": [],
   "source": [
    "import pandas as pd\n",
    "onebike_datetimes = pd.read_csv('capital-onebike.csv')"
   ]
  },
  {
   "cell_type": "markdown",
   "id": "e6175bc9",
   "metadata": {},
   "source": [
    "#################################################################"
   ]
  },
  {
   "cell_type": "markdown",
   "id": "14c26dd0",
   "metadata": {},
   "source": [
    "### Printing and Parsing Datetimes"
   ]
  },
  {
   "cell_type": "code",
   "execution_count": 10,
   "id": "81164ea8",
   "metadata": {},
   "outputs": [
    {
     "name": "stdout",
     "output_type": "stream",
     "text": [
      "2017-10-01 15:23:25\n"
     ]
    }
   ],
   "source": [
    "#Create datetime\n",
    "dt = datetime(2017, 10, 1, 15, 23, 25)\n",
    "\n",
    "print(dt.strftime(\"%Y-%m-%d %H:%M:%S\"))"
   ]
  },
  {
   "cell_type": "code",
   "execution_count": 11,
   "id": "8e6e8db9",
   "metadata": {},
   "outputs": [
    {
     "name": "stdout",
     "output_type": "stream",
     "text": [
      "15:23:25 on 2017/10/01\n"
     ]
    }
   ],
   "source": [
    "print(dt.strftime(\"%H:%M:%S on %Y/%m/%d\"))"
   ]
  },
  {
   "cell_type": "code",
   "execution_count": 12,
   "id": "4eb245d9",
   "metadata": {},
   "outputs": [
    {
     "name": "stdout",
     "output_type": "stream",
     "text": [
      "2017-10-01T15:23:25\n"
     ]
    }
   ],
   "source": [
    "print(dt.isoformat())"
   ]
  },
  {
   "cell_type": "code",
   "execution_count": 13,
   "id": "f4623bd5",
   "metadata": {},
   "outputs": [],
   "source": [
    "#Parsing with strptime\n",
    "dt = datetime.strptime(\"12/30/2017 15:19:13\", \"%m/%d/%Y %H:%M:%S\")"
   ]
  },
  {
   "cell_type": "code",
   "execution_count": 14,
   "id": "55255cfd",
   "metadata": {},
   "outputs": [
    {
     "name": "stdout",
     "output_type": "stream",
     "text": [
      "2017-12-30 15:19:13\n"
     ]
    }
   ],
   "source": [
    "print(dt)"
   ]
  },
  {
   "cell_type": "code",
   "execution_count": 15,
   "id": "d886c1bc",
   "metadata": {},
   "outputs": [
    {
     "name": "stdout",
     "output_type": "stream",
     "text": [
      "<class 'datetime.datetime'>\n"
     ]
    }
   ],
   "source": [
    "print(type(dt))"
   ]
  },
  {
   "cell_type": "markdown",
   "id": "a14b0311",
   "metadata": {},
   "source": [
    "Exact argument is necessary in case of string conversion."
   ]
  },
  {
   "cell_type": "markdown",
   "id": "e02c1734",
   "metadata": {},
   "source": [
    "Finally, there is another kind of datetime we will sometimes encounter: the Unix timestamp. Many computers store datetime information behind the scenes as the number of seconds since January 1, 1970. This date is largely considered the birth of modern-style computers. To read a Unix timestamp, we use the datetime.fromtimestamp() method. Python will read our timestamp and return a datetime."
   ]
  },
  {
   "cell_type": "code",
   "execution_count": 16,
   "id": "7242db6b",
   "metadata": {},
   "outputs": [
    {
     "name": "stdout",
     "output_type": "stream",
     "text": [
      "2449-12-23 16:56:53\n"
     ]
    }
   ],
   "source": [
    "#Timestamp\n",
    "ts = 15146651513.0\n",
    "\n",
    "print(datetime.fromtimestamp(ts))"
   ]
  },
  {
   "cell_type": "code",
   "execution_count": 17,
   "id": "70b3d8ba",
   "metadata": {},
   "outputs": [
    {
     "name": "stdout",
     "output_type": "stream",
     "text": [
      "2017-02-03 00:00:01\n"
     ]
    }
   ],
   "source": [
    "##Example\n",
    "# Import the datetime class\n",
    "from datetime import datetime\n",
    "\n",
    "# Starting string, in YYYY-MM-DD HH:MM:SS format\n",
    "s = '2017-02-03 00:00:01'\n",
    "\n",
    "# Write a format string to parse s\n",
    "fmt = '%Y-%m-%d %H:%M:%S'\n",
    "\n",
    "# Create a datetime object d\n",
    "d = datetime.strptime(s, fmt)\n",
    "\n",
    "# Print d\n",
    "print(d)"
   ]
  },
  {
   "cell_type": "code",
   "execution_count": 18,
   "id": "f1871666",
   "metadata": {},
   "outputs": [
    {
     "name": "stdout",
     "output_type": "stream",
     "text": [
      "2030-10-15 00:00:00\n"
     ]
    }
   ],
   "source": [
    "##Example\n",
    "# Import the datetime class\n",
    "from datetime import datetime\n",
    "\n",
    "# Starting string, in YYYY-MM-DD format\n",
    "s = '2030-10-15'\n",
    "\n",
    "# Write a format string to parse s\n",
    "fmt = '%Y-%m-%d'\n",
    "\n",
    "# Create a datetime object d\n",
    "d = datetime.strptime(s, fmt)\n",
    "\n",
    "# Print d\n",
    "print(d)"
   ]
  },
  {
   "cell_type": "code",
   "execution_count": 19,
   "id": "fe87a570",
   "metadata": {},
   "outputs": [
    {
     "name": "stdout",
     "output_type": "stream",
     "text": [
      "1986-12-15 08:00:00\n"
     ]
    }
   ],
   "source": [
    "#Example\n",
    "# Import the datetime class\n",
    "from datetime import datetime\n",
    "\n",
    "# Starting string, in MM/DD/YYYY HH:MM:SS format\n",
    "s = '12/15/1986 08:00:00'\n",
    "\n",
    "# Write a format string to parse s\n",
    "fmt = '%m/%d/%Y %H:%M:%S'\n",
    "\n",
    "# Create a datetime object d\n",
    "d = datetime.strptime(s, fmt)\n",
    "\n",
    "# Print d\n",
    "print(d)"
   ]
  },
  {
   "cell_type": "markdown",
   "id": "d5cd068e",
   "metadata": {},
   "source": [
    "#############################################################"
   ]
  },
  {
   "cell_type": "markdown",
   "id": "b5fd77ae",
   "metadata": {},
   "source": [
    "### Working with Durations"
   ]
  },
  {
   "cell_type": "code",
   "execution_count": 20,
   "id": "24181055",
   "metadata": {},
   "outputs": [],
   "source": [
    "#Create example datetimes\n",
    "start = datetime(2017, 10, 1, 15, 23, 25)\n",
    "end = datetime(2017, 10, 1, 15, 43, 25)"
   ]
  },
  {
   "cell_type": "code",
   "execution_count": 21,
   "id": "b07f3359",
   "metadata": {},
   "outputs": [],
   "source": [
    "duration = end - start"
   ]
  },
  {
   "cell_type": "code",
   "execution_count": 22,
   "id": "f032dcd3",
   "metadata": {},
   "outputs": [
    {
     "name": "stdout",
     "output_type": "stream",
     "text": [
      "1200.0\n"
     ]
    }
   ],
   "source": [
    "print(duration.total_seconds())"
   ]
  },
  {
   "cell_type": "code",
   "execution_count": 23,
   "id": "ad9c602a",
   "metadata": {},
   "outputs": [
    {
     "name": "stdout",
     "output_type": "stream",
     "text": [
      "2017-10-01 15:23:25\n",
      "2017-10-01 15:23:26\n",
      "2017-10-02 15:23:25\n"
     ]
    }
   ],
   "source": [
    "#Creating Timedeltas\n",
    "#Import Timedelta\n",
    "from datetime import timedelta\n",
    "\n",
    "#Create a timedelta\n",
    "delta1 = timedelta(seconds = 1)\n",
    "\n",
    "print(start)\n",
    "\n",
    "print(start + delta1)\n",
    "\n",
    "\n",
    "delta2 = timedelta(days = 1)\n",
    "\n",
    "print(start +delta2)"
   ]
  }
 ],
 "metadata": {
  "kernelspec": {
   "display_name": "Python 3 (ipykernel)",
   "language": "python",
   "name": "python3"
  },
  "language_info": {
   "codemirror_mode": {
    "name": "ipython",
    "version": 3
   },
   "file_extension": ".py",
   "mimetype": "text/x-python",
   "name": "python",
   "nbconvert_exporter": "python",
   "pygments_lexer": "ipython3",
   "version": "3.9.12"
  }
 },
 "nbformat": 4,
 "nbformat_minor": 5
}
