{
 "cells": [
  {
   "cell_type": "markdown",
   "id": "72036414",
   "metadata": {},
   "source": [
    "As a first example, we'll start with a simple question: what is the average birth weight of babies in the United States? To answer a question like this, we have to find an appropriate dataset or run an experiment to collect it. Then we have to get the data into our development environment and prepare it for analysis, which involves cleaning and validation."
   ]
  },
  {
   "cell_type": "code",
   "execution_count": 1,
   "id": "17763d92",
   "metadata": {},
   "outputs": [
    {
     "data": {
      "text/plain": [
       "pandas.core.frame.DataFrame"
      ]
     },
     "execution_count": 1,
     "metadata": {},
     "output_type": "execute_result"
    }
   ],
   "source": [
    "#Import pandas\n",
    "import pandas as pd\n",
    "import h5py\n",
    "import numpy as np\n",
    "\n",
    "nsfg = pd.read_hdf('nsfg.hdf5', 'nsfg')\n",
    "type(nsfg)"
   ]
  },
  {
   "cell_type": "markdown",
   "id": "e241fd6a",
   "metadata": {},
   "source": [
    "Pandas can read data in most common formats, including CSV, Excel, and the format the NSFG data is in, HDF5. The result from read_hdf() is a DataFrame, which is the primary data structure Pandas uses to store data."
   ]
  },
  {
   "cell_type": "code",
   "execution_count": 2,
   "id": "be72bc8a",
   "metadata": {},
   "outputs": [
    {
     "data": {
      "text/html": [
       "<div>\n",
       "<style scoped>\n",
       "    .dataframe tbody tr th:only-of-type {\n",
       "        vertical-align: middle;\n",
       "    }\n",
       "\n",
       "    .dataframe tbody tr th {\n",
       "        vertical-align: top;\n",
       "    }\n",
       "\n",
       "    .dataframe thead th {\n",
       "        text-align: right;\n",
       "    }\n",
       "</style>\n",
       "<table border=\"1\" class=\"dataframe\">\n",
       "  <thead>\n",
       "    <tr style=\"text-align: right;\">\n",
       "      <th></th>\n",
       "      <th>caseid</th>\n",
       "      <th>outcome</th>\n",
       "      <th>birthwgt_lb1</th>\n",
       "      <th>birthwgt_oz1</th>\n",
       "      <th>prglngth</th>\n",
       "      <th>nbrnaliv</th>\n",
       "      <th>agecon</th>\n",
       "      <th>agepreg</th>\n",
       "      <th>hpagelb</th>\n",
       "      <th>wgt2013_2015</th>\n",
       "    </tr>\n",
       "  </thead>\n",
       "  <tbody>\n",
       "    <tr>\n",
       "      <th>0</th>\n",
       "      <td>60418</td>\n",
       "      <td>1</td>\n",
       "      <td>5.0</td>\n",
       "      <td>4.0</td>\n",
       "      <td>40</td>\n",
       "      <td>1.0</td>\n",
       "      <td>2000</td>\n",
       "      <td>2075.0</td>\n",
       "      <td>22.0</td>\n",
       "      <td>3554.964843</td>\n",
       "    </tr>\n",
       "    <tr>\n",
       "      <th>1</th>\n",
       "      <td>60418</td>\n",
       "      <td>1</td>\n",
       "      <td>4.0</td>\n",
       "      <td>12.0</td>\n",
       "      <td>36</td>\n",
       "      <td>1.0</td>\n",
       "      <td>2291</td>\n",
       "      <td>2358.0</td>\n",
       "      <td>25.0</td>\n",
       "      <td>3554.964843</td>\n",
       "    </tr>\n",
       "    <tr>\n",
       "      <th>2</th>\n",
       "      <td>60418</td>\n",
       "      <td>1</td>\n",
       "      <td>5.0</td>\n",
       "      <td>4.0</td>\n",
       "      <td>36</td>\n",
       "      <td>1.0</td>\n",
       "      <td>3241</td>\n",
       "      <td>3308.0</td>\n",
       "      <td>52.0</td>\n",
       "      <td>3554.964843</td>\n",
       "    </tr>\n",
       "    <tr>\n",
       "      <th>3</th>\n",
       "      <td>60419</td>\n",
       "      <td>6</td>\n",
       "      <td>NaN</td>\n",
       "      <td>NaN</td>\n",
       "      <td>33</td>\n",
       "      <td>NaN</td>\n",
       "      <td>3650</td>\n",
       "      <td>NaN</td>\n",
       "      <td>NaN</td>\n",
       "      <td>2484.535358</td>\n",
       "    </tr>\n",
       "    <tr>\n",
       "      <th>4</th>\n",
       "      <td>60420</td>\n",
       "      <td>1</td>\n",
       "      <td>8.0</td>\n",
       "      <td>13.0</td>\n",
       "      <td>41</td>\n",
       "      <td>1.0</td>\n",
       "      <td>2191</td>\n",
       "      <td>2266.0</td>\n",
       "      <td>24.0</td>\n",
       "      <td>2903.782914</td>\n",
       "    </tr>\n",
       "  </tbody>\n",
       "</table>\n",
       "</div>"
      ],
      "text/plain": [
       "   caseid  outcome  birthwgt_lb1  birthwgt_oz1  prglngth  nbrnaliv  agecon  \\\n",
       "0   60418        1           5.0           4.0        40       1.0    2000   \n",
       "1   60418        1           4.0          12.0        36       1.0    2291   \n",
       "2   60418        1           5.0           4.0        36       1.0    3241   \n",
       "3   60419        6           NaN           NaN        33       NaN    3650   \n",
       "4   60420        1           8.0          13.0        41       1.0    2191   \n",
       "\n",
       "   agepreg  hpagelb  wgt2013_2015  \n",
       "0   2075.0     22.0   3554.964843  \n",
       "1   2358.0     25.0   3554.964843  \n",
       "2   3308.0     52.0   3554.964843  \n",
       "3      NaN      NaN   2484.535358  \n",
       "4   2266.0     24.0   2903.782914  "
      ]
     },
     "execution_count": 2,
     "metadata": {},
     "output_type": "execute_result"
    }
   ],
   "source": [
    "nsfg.head()"
   ]
  },
  {
   "cell_type": "markdown",
   "id": "8e1a689b",
   "metadata": {},
   "source": [
    "nsfg contains one row for each pregnancy for each of the women."
   ]
  },
  {
   "cell_type": "code",
   "execution_count": 3,
   "id": "4f2f0fca",
   "metadata": {},
   "outputs": [
    {
     "data": {
      "text/plain": [
       "(9358, 10)"
      ]
     },
     "execution_count": 3,
     "metadata": {},
     "output_type": "execute_result"
    }
   ],
   "source": [
    "nsfg.shape"
   ]
  },
  {
   "cell_type": "markdown",
   "id": "da52bd6c",
   "metadata": {},
   "source": [
    "The DataFrame has an attribute called shape, which is the number of rows and columns; there are 9358 rows in this dataset, one for each pregnancy, and 10 columns, one for each variable. "
   ]
  },
  {
   "cell_type": "markdown",
   "id": "ea470369",
   "metadata": {},
   "source": [
    "The DataFrame also has an attribute called `columns`, which is an Index. That's another Pandas data structure, similar to a list; in this case it's a list of variables names, which are strings."
   ]
  },
  {
   "cell_type": "code",
   "execution_count": 4,
   "id": "57d3a4a3",
   "metadata": {},
   "outputs": [
    {
     "data": {
      "text/plain": [
       "Index(['caseid', 'outcome', 'birthwgt_lb1', 'birthwgt_oz1', 'prglngth',\n",
       "       'nbrnaliv', 'agecon', 'agepreg', 'hpagelb', 'wgt2013_2015'],\n",
       "      dtype='object')"
      ]
     },
     "execution_count": 4,
     "metadata": {},
     "output_type": "execute_result"
    }
   ],
   "source": [
    "nsfg.columns"
   ]
  },
  {
   "cell_type": "code",
   "execution_count": 5,
   "id": "8f91f37c",
   "metadata": {},
   "outputs": [],
   "source": [
    "pounds = nsfg['birthwgt_lb1']"
   ]
  },
  {
   "cell_type": "markdown",
   "id": "3ef8478a",
   "metadata": {},
   "source": [
    "We can select a column from a DataFrame using the bracket operator, with a string as the key. The result is a Series, which is another Pandas data structure. In this case the Series contains the birth weights, in pounds, of the live births (or in the case of multiple births, the first baby)."
   ]
  },
  {
   "cell_type": "code",
   "execution_count": 6,
   "id": "4eeaf394",
   "metadata": {},
   "outputs": [
    {
     "data": {
      "text/plain": [
       "pandas.core.series.Series"
      ]
     },
     "execution_count": 6,
     "metadata": {},
     "output_type": "execute_result"
    }
   ],
   "source": [
    "type(pounds)"
   ]
  },
  {
   "cell_type": "code",
   "execution_count": 7,
   "id": "d75cf847",
   "metadata": {},
   "outputs": [
    {
     "data": {
      "text/plain": [
       "0    5.0\n",
       "1    4.0\n",
       "2    5.0\n",
       "3    NaN\n",
       "4    8.0\n",
       "Name: birthwgt_lb1, dtype: float64"
      ]
     },
     "execution_count": 7,
     "metadata": {},
     "output_type": "execute_result"
    }
   ],
   "source": [
    "pounds.head()"
   ]
  },
  {
   "cell_type": "markdown",
   "id": "17b2c418",
   "metadata": {},
   "source": [
    "#############################################################"
   ]
  },
  {
   "cell_type": "markdown",
   "id": "50934c87",
   "metadata": {},
   "source": [
    "### Clean and Validate"
   ]
  },
  {
   "cell_type": "code",
   "execution_count": 8,
   "id": "f6ae6685",
   "metadata": {},
   "outputs": [],
   "source": [
    "#Selecting columns\n",
    "pounds = nsfg['birthwgt_lb1']\n",
    "ounces = nsfg['birthwgt_oz1']"
   ]
  },
  {
   "cell_type": "code",
   "execution_count": 9,
   "id": "32f9216f",
   "metadata": {},
   "outputs": [
    {
     "data": {
      "text/plain": [
       "7.0     2146\n",
       "6.0     1666\n",
       "8.0     1168\n",
       "5.0      586\n",
       "9.0      363\n",
       "4.0      196\n",
       "99.0      94\n",
       "10.0      82\n",
       "3.0       67\n",
       "2.0       47\n",
       "1.0       34\n",
       "11.0      17\n",
       "12.0       7\n",
       "0.0        6\n",
       "14.0       2\n",
       "13.0       2\n",
       "98.0       1\n",
       "17.0       1\n",
       "Name: birthwgt_lb1, dtype: int64"
      ]
     },
     "execution_count": 9,
     "metadata": {},
     "output_type": "execute_result"
    }
   ],
   "source": [
    "pounds.value_counts()"
   ]
  },
  {
   "cell_type": "code",
   "execution_count": 10,
   "id": "774da4bd",
   "metadata": {},
   "outputs": [
    {
     "data": {
      "text/plain": [
       "0.0        6\n",
       "1.0       34\n",
       "2.0       47\n",
       "3.0       67\n",
       "4.0      196\n",
       "5.0      586\n",
       "6.0     1666\n",
       "7.0     2146\n",
       "8.0     1168\n",
       "9.0      363\n",
       "10.0      82\n",
       "11.0      17\n",
       "12.0       7\n",
       "13.0       2\n",
       "14.0       2\n",
       "17.0       1\n",
       "98.0       1\n",
       "99.0      94\n",
       "Name: birthwgt_lb1, dtype: int64"
      ]
     },
     "execution_count": 10,
     "metadata": {},
     "output_type": "execute_result"
    }
   ],
   "source": [
    "pounds.value_counts().sort_index()"
   ]
  },
  {
   "cell_type": "code",
   "execution_count": 11,
   "id": "7f1eb5bb",
   "metadata": {},
   "outputs": [
    {
     "data": {
      "text/plain": [
       "count    6485.000000\n",
       "mean        8.055204\n",
       "std        11.178893\n",
       "min         0.000000\n",
       "25%         6.000000\n",
       "50%         7.000000\n",
       "75%         8.000000\n",
       "max        99.000000\n",
       "Name: birthwgt_lb1, dtype: float64"
      ]
     },
     "execution_count": 11,
     "metadata": {},
     "output_type": "execute_result"
    }
   ],
   "source": [
    "pounds.describe()"
   ]
  },
  {
   "cell_type": "code",
   "execution_count": 12,
   "id": "0d34b846",
   "metadata": {},
   "outputs": [],
   "source": [
    "#Replacing\n",
    "pounds = pounds.replace([98, 99], np.nan)"
   ]
  },
  {
   "cell_type": "code",
   "execution_count": 13,
   "id": "be66f368",
   "metadata": {},
   "outputs": [
    {
     "data": {
      "text/plain": [
       "count    6390.000000\n",
       "mean        6.703286\n",
       "std         1.429265\n",
       "min         0.000000\n",
       "25%         6.000000\n",
       "50%         7.000000\n",
       "75%         8.000000\n",
       "max        17.000000\n",
       "Name: birthwgt_lb1, dtype: float64"
      ]
     },
     "execution_count": 13,
     "metadata": {},
     "output_type": "execute_result"
    }
   ],
   "source": [
    "pounds.describe()"
   ]
  },
  {
   "cell_type": "code",
   "execution_count": 14,
   "id": "b2ccd8a1",
   "metadata": {},
   "outputs": [
    {
     "data": {
      "text/plain": [
       "count    6391.000000\n",
       "mean        7.213895\n",
       "std         8.254885\n",
       "min         0.000000\n",
       "25%         3.000000\n",
       "50%         6.000000\n",
       "75%        11.000000\n",
       "max        99.000000\n",
       "Name: birthwgt_oz1, dtype: float64"
      ]
     },
     "execution_count": 14,
     "metadata": {},
     "output_type": "execute_result"
    }
   ],
   "source": [
    "#For ounces\n",
    "ounces.describe()"
   ]
  },
  {
   "cell_type": "code",
   "execution_count": 15,
   "id": "6fef4f30",
   "metadata": {},
   "outputs": [
    {
     "data": {
      "text/plain": [
       "0.0     757\n",
       "6.0     543\n",
       "8.0     518\n",
       "2.0     429\n",
       "11.0    418\n",
       "5.0     407\n",
       "3.0     393\n",
       "12.0    388\n",
       "4.0     386\n",
       "9.0     377\n",
       "7.0     346\n",
       "1.0     297\n",
       "10.0    295\n",
       "13.0    275\n",
       "15.0    268\n",
       "14.0    258\n",
       "99.0     35\n",
       "98.0      1\n",
       "Name: birthwgt_oz1, dtype: int64"
      ]
     },
     "execution_count": 15,
     "metadata": {},
     "output_type": "execute_result"
    }
   ],
   "source": [
    "ounces.value_counts()"
   ]
  },
  {
   "cell_type": "code",
   "execution_count": 16,
   "id": "73a3aab2",
   "metadata": {},
   "outputs": [
    {
     "data": {
      "text/plain": [
       "0.0     757\n",
       "1.0     297\n",
       "2.0     429\n",
       "3.0     393\n",
       "4.0     386\n",
       "5.0     407\n",
       "6.0     543\n",
       "7.0     346\n",
       "8.0     518\n",
       "9.0     377\n",
       "10.0    295\n",
       "11.0    418\n",
       "12.0    388\n",
       "13.0    275\n",
       "14.0    258\n",
       "15.0    268\n",
       "98.0      1\n",
       "99.0     35\n",
       "Name: birthwgt_oz1, dtype: int64"
      ]
     },
     "execution_count": 16,
     "metadata": {},
     "output_type": "execute_result"
    }
   ],
   "source": [
    "ounces.value_counts().sort_index()"
   ]
  },
  {
   "cell_type": "code",
   "execution_count": 17,
   "id": "641b8485",
   "metadata": {},
   "outputs": [],
   "source": [
    "#Replacing without assigning to another variable\n",
    "ounces.replace([98, 99], np.nan, inplace = True)"
   ]
  },
  {
   "cell_type": "code",
   "execution_count": 18,
   "id": "dc349121",
   "metadata": {},
   "outputs": [
    {
     "data": {
      "text/plain": [
       "count    6355.000000\n",
       "mean        6.694099\n",
       "std         4.533847\n",
       "min         0.000000\n",
       "25%         3.000000\n",
       "50%         6.000000\n",
       "75%        11.000000\n",
       "max        15.000000\n",
       "Name: birthwgt_oz1, dtype: float64"
      ]
     },
     "execution_count": 18,
     "metadata": {},
     "output_type": "execute_result"
    }
   ],
   "source": [
    "ounces.describe()"
   ]
  },
  {
   "cell_type": "code",
   "execution_count": 19,
   "id": "aba7c62e",
   "metadata": {},
   "outputs": [
    {
     "data": {
      "text/plain": [
       "count    6355.000000\n",
       "mean        7.120978\n",
       "std         1.422236\n",
       "min         0.000000\n",
       "25%         6.375000\n",
       "50%         7.187500\n",
       "75%         8.000000\n",
       "max        17.937500\n",
       "dtype: float64"
      ]
     },
     "execution_count": 19,
     "metadata": {},
     "output_type": "execute_result"
    }
   ],
   "source": [
    "#Performing Arithmetic with series\n",
    "birth_weight = pounds + ounces/16.0\n",
    "birth_weight.describe()"
   ]
  },
  {
   "cell_type": "code",
   "execution_count": 20,
   "id": "873298fd",
   "metadata": {},
   "outputs": [
    {
     "name": "stdout",
     "output_type": "stream",
     "text": [
      "1.0    6379\n",
      "2.0     100\n",
      "3.0       5\n",
      "Name: nbrnaliv, dtype: int64\n"
     ]
    }
   ],
   "source": [
    "##Example\n",
    "# Replace the value 8 with NaN\n",
    "nsfg['nbrnaliv'].replace([8], np.nan, inplace = True)\n",
    "\n",
    "# Print the values and their frequencies\n",
    "print(nsfg['nbrnaliv'].value_counts())"
   ]
  },
  {
   "cell_type": "code",
   "execution_count": 21,
   "id": "d276a5e6",
   "metadata": {},
   "outputs": [
    {
     "name": "stdout",
     "output_type": "stream",
     "text": [
      "count    9109.000000\n",
      "mean        0.552069\n",
      "std         0.271479\n",
      "min         0.000000\n",
      "25%         0.250000\n",
      "50%         0.670000\n",
      "75%         0.750000\n",
      "max         0.920000\n",
      "dtype: float64\n"
     ]
    }
   ],
   "source": [
    "##Example\n",
    "# Select the columns and divide by 100\n",
    "agecon = nsfg['agecon'] / 100\n",
    "agepreg = nsfg['agepreg'] / 100\n",
    "\n",
    "# Compute the difference\n",
    "preg_length = agepreg - agecon\n",
    "\n",
    "# Compute summary statistics\n",
    "print(preg_length.describe())"
   ]
  },
  {
   "cell_type": "markdown",
   "id": "f4e34ec6",
   "metadata": {},
   "source": [
    "#######################################################################"
   ]
  },
  {
   "cell_type": "markdown",
   "id": "d8ab2162",
   "metadata": {},
   "source": [
    "### Filter and Visualize"
   ]
  },
  {
   "cell_type": "code",
   "execution_count": 22,
   "id": "2705594d",
   "metadata": {},
   "outputs": [],
   "source": [
    "import matplotlib.pyplot as plt"
   ]
  },
  {
   "cell_type": "code",
   "execution_count": 23,
   "id": "c63b2ecb",
   "metadata": {},
   "outputs": [
    {
     "data": {
      "image/png": "[encoded data removed]",
      "text/plain": [
       "<Figure size 432x288 with 1 Axes>"
      ]
     },
     "metadata": {
      "needs_background": "light"
     },
     "output_type": "display_data"
    }
   ],
   "source": [
    "plt.hist(birth_weight.dropna(), bins = 30)\n",
    "plt.xlabel(\"Birth weight (lb)\")\n",
    "plt.ylabel(\"Number of births\")\n",
    "plt.show()"
   ]
  },
  {
   "cell_type": "code",
   "execution_count": 24,
   "id": "fd39f928",
   "metadata": {},
   "outputs": [
    {
     "data": {
      "text/plain": [
       "0    False\n",
       "1     True\n",
       "2     True\n",
       "3     True\n",
       "4    False\n",
       "Name: prglngth, dtype: bool"
      ]
     },
     "execution_count": 24,
     "metadata": {},
     "output_type": "execute_result"
    }
   ],
   "source": [
    "preterm = nsfg['prglngth'] < 37\n",
    "preterm.head()"
   ]
  },
  {
   "cell_type": "code",
   "execution_count": 25,
   "id": "d6d882cc",
   "metadata": {},
   "outputs": [
    {
     "data": {
      "text/plain": [
       "3742"
      ]
     },
     "execution_count": 25,
     "metadata": {},
     "output_type": "execute_result"
    }
   ],
   "source": [
    "preterm.sum()"
   ]
  },
  {
   "cell_type": "code",
   "execution_count": 26,
   "id": "b215155e",
   "metadata": {},
   "outputs": [
    {
     "data": {
      "text/plain": [
       "0.39987176747168196"
      ]
     },
     "execution_count": 26,
     "metadata": {},
     "output_type": "execute_result"
    }
   ],
   "source": [
    "preterm.mean()"
   ]
  },
  {
   "cell_type": "code",
   "execution_count": 27,
   "id": "a86f744e",
   "metadata": {},
   "outputs": [
    {
     "data": {
      "text/plain": [
       "5.577598314606742"
      ]
     },
     "execution_count": 27,
     "metadata": {},
     "output_type": "execute_result"
    }
   ],
   "source": [
    "#Filtering\n",
    "preterm_weight = birth_weight[preterm]\n",
    "preterm_weight.mean()"
   ]
  },
  {
   "cell_type": "code",
   "execution_count": 28,
   "id": "10a9278c",
   "metadata": {},
   "outputs": [
    {
     "data": {
      "text/plain": [
       "7.372323879231473"
      ]
     },
     "execution_count": 28,
     "metadata": {},
     "output_type": "execute_result"
    }
   ],
   "source": [
    "full_term_weight = birth_weight[~preterm]\n",
    "full_term_weight.mean()"
   ]
  },
  {
   "cell_type": "code",
   "execution_count": 29,
   "id": "460cbf36",
   "metadata": {},
   "outputs": [
    {
     "data": {
      "image/png": "[encoded data removed]",
      "text/plain": [
       "<Figure size 432x288 with 1 Axes>"
      ]
     },
     "metadata": {
      "needs_background": "light"
     },
     "output_type": "display_data"
    }
   ],
   "source": [
    "##Example\n",
    "# Plot the histogram\n",
    "plt.hist(agecon, bins = 20)\n",
    "\n",
    "# Label the axes\n",
    "plt.xlabel('Age at conception')\n",
    "plt.ylabel('Number of pregnancies')\n",
    "\n",
    "# Show the figure\n",
    "plt.show()"
   ]
  },
  {
   "cell_type": "code",
   "execution_count": 30,
   "id": "a1b08e55",
   "metadata": {},
   "outputs": [
    {
     "data": {
      "image/png": "[encoded data removed]",
      "text/plain": [
       "<Figure size 432x288 with 1 Axes>"
      ]
     },
     "metadata": {
      "needs_background": "light"
     },
     "output_type": "display_data"
    }
   ],
   "source": [
    "##Example\n",
    "# Plot the histogram\n",
    "plt.hist(agecon, bins=20, histtype='step')\n",
    "\n",
    "# Label the axes\n",
    "plt.xlabel('Age at conception')\n",
    "plt.ylabel('Number of pregnancies')\n",
    "\n",
    "# Show the figure\n",
    "plt.show()"
   ]
  },
  {
   "cell_type": "code",
   "execution_count": 31,
   "id": "da148fc3",
   "metadata": {},
   "outputs": [
    {
     "name": "stdout",
     "output_type": "stream",
     "text": [
      "Single full-term mean: 7.385643450184502\n",
      "Multiple full-term mean: 5.768055555555556\n"
     ]
    }
   ],
   "source": [
    "##Example\n",
    "# Filter full-term babies\n",
    "full_term = nsfg['prglngth'] >= 37\n",
    "\n",
    "# Filter single births\n",
    "single = nsfg['nbrnaliv'] == 1\n",
    "\n",
    "# Compute birth weight for single full-term babies\n",
    "single_full_term_weight = birth_weight[full_term & single]\n",
    "print('Single full-term mean:', single_full_term_weight.mean())\n",
    "\n",
    "# Compute birth weight for multiple full-term babies\n",
    "mult_full_term_weight = birth_weight[full_term & ~single]\n",
    "print('Multiple full-term mean:', mult_full_term_weight.mean())\n"
   ]
  },
  {
   "cell_type": "markdown",
   "id": "19a60903",
   "metadata": {},
   "source": [
    "#### Resampling"
   ]
  },
  {
   "cell_type": "markdown",
   "id": "40790d77",
   "metadata": {},
   "source": [
    "The NSFG is not exactly representative of the U.S. population; by design, some groups are more likely to appear in the sample than others; they are \"oversampled\". Oversampling helps to ensure that you have enough people in every subgroup to get reliable statistics, but it makes the analysis a little more complicated. However, we can correct for oversampling by resampling."
   ]
  }
 ],
 "metadata": {
  "kernelspec": {
   "display_name": "Python 3 (ipykernel)",
   "language": "python",
   "name": "python3"
  },
  "language_info": {
   "codemirror_mode": {
    "name": "ipython",
    "version": 3
   },
   "file_extension": ".py",
   "mimetype": "text/x-python",
   "name": "python",
   "nbconvert_exporter": "python",
   "pygments_lexer": "ipython3",
   "version": "3.9.12"
  }
 },
 "nbformat": 4,
 "nbformat_minor": 5
}
