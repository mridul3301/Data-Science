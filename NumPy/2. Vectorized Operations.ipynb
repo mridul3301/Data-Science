{
 "cells": [
  {
   "cell_type": "code",
   "execution_count": 1,
   "id": "fef54c1b",
   "metadata": {},
   "outputs": [],
   "source": [
    "import numpy as np"
   ]
  },
  {
   "cell_type": "code",
   "execution_count": 2,
   "id": "5723bf65",
   "metadata": {},
   "outputs": [
    {
     "data": {
      "text/plain": [
       "1783293664"
      ]
     },
     "execution_count": 2,
     "metadata": {},
     "output_type": "execute_result"
    }
   ],
   "source": [
    "#Example\n",
    "np.arange(1000000).sum()"
   ]
  },
  {
   "cell_type": "markdown",
   "id": "4f5f7a9f",
   "metadata": {},
   "source": [
    "## Adding scalar to numpy array without using numpy array"
   ]
  },
  {
   "cell_type": "code",
   "execution_count": 3,
   "id": "30560654",
   "metadata": {},
   "outputs": [
    {
     "data": {
      "text/plain": [
       "array([[4, 5, 6],\n",
       "       [7, 8, 9]])"
      ]
     },
     "execution_count": 3,
     "metadata": {},
     "output_type": "execute_result"
    }
   ],
   "source": [
    "#Using python to add 3 to eaxh element of numpy array\n",
    "\n",
    "array = np.array([[1, 2, 3], [4, 5, 6]])\n",
    "for row in range(array.shape[0]):\n",
    "    for column in range(array.shape[1]):\n",
    "        array[row][column] += 3\n",
    "array"
   ]
  },
  {
   "cell_type": "markdown",
   "id": "92b2bbbb",
   "metadata": {},
   "source": [
    "## Adding Numpy array with scalar"
   ]
  },
  {
   "cell_type": "code",
   "execution_count": 4,
   "id": "32a06118",
   "metadata": {},
   "outputs": [
    {
     "data": {
      "text/plain": [
       "array([[4, 5, 6],\n",
       "       [7, 8, 9]])"
      ]
     },
     "execution_count": 4,
     "metadata": {},
     "output_type": "execute_result"
    }
   ],
   "source": [
    "#Using Numpy for addinng\n",
    "array_np = np.array([[1, 2, 3], [4, 5, 6]])\n",
    "array_np+3"
   ]
  },
  {
   "cell_type": "markdown",
   "id": "a6773825",
   "metadata": {},
   "source": [
    "## Multiplying Numpy array with scalar"
   ]
  },
  {
   "cell_type": "code",
   "execution_count": 5,
   "id": "e2a3a687",
   "metadata": {},
   "outputs": [
    {
     "data": {
      "text/plain": [
       "array([[ 2,  4,  6],\n",
       "       [ 8, 10, 12]])"
      ]
     },
     "execution_count": 5,
     "metadata": {},
     "output_type": "execute_result"
    }
   ],
   "source": [
    "#Using Numpy for multiplication \n",
    "array_np * 2"
   ]
  },
  {
   "cell_type": "markdown",
   "id": "83287dfd",
   "metadata": {},
   "source": [
    "## Adding two numpy array of same dimension"
   ]
  },
  {
   "cell_type": "code",
   "execution_count": 6,
   "id": "34559d80",
   "metadata": {},
   "outputs": [
    {
     "data": {
      "text/plain": [
       "array([[2, 2, 2],\n",
       "       [8, 8, 8]])"
      ]
     },
     "execution_count": 6,
     "metadata": {},
     "output_type": "execute_result"
    }
   ],
   "source": [
    "#Adding two identical arrays together\n",
    "array_a = np.array([[1, 2, 3], [4, 5, 6]])\n",
    "array_b = np.array([[1, 0, -1], [4, 3, 2]])\n",
    "array_a+array_b"
   ]
  },
  {
   "cell_type": "markdown",
   "id": "86f241dc",
   "metadata": {},
   "source": [
    "## Multiplying two numpy array of same dimension"
   ]
  },
  {
   "cell_type": "code",
   "execution_count": 7,
   "id": "4cedbb68",
   "metadata": {},
   "outputs": [
    {
     "data": {
      "text/plain": [
       "array([[ 12,  24,  48],\n",
       "       [  4, -24, -12]])"
      ]
     },
     "execution_count": 7,
     "metadata": {},
     "output_type": "execute_result"
    }
   ],
   "source": [
    "#Multiplying two identical arrays together\n",
    "array_c = np.array([[6, 3, 8], [4, -8, 6]])\n",
    "array_d = np.array([[2, 8, 6], [1, 3, -2]])\n",
    "array_c*array_d"
   ]
  },
  {
   "cell_type": "markdown",
   "id": "0b0b9482",
   "metadata": {},
   "source": [
    "This is same for subtraction and division. Operation will be performed between corresponding elements of array."
   ]
  },
  {
   "cell_type": "markdown",
   "id": "e5864788",
   "metadata": {},
   "source": [
    "## Generating Booleans using vectorized syntax"
   ]
  },
  {
   "cell_type": "code",
   "execution_count": 8,
   "id": "edaf590e",
   "metadata": {},
   "outputs": [
    {
     "data": {
      "text/plain": [
       "array([[False,  True,  True],\n",
       "       [False,  True, False]])"
      ]
     },
     "execution_count": 8,
     "metadata": {},
     "output_type": "execute_result"
    }
   ],
   "source": [
    "array_x = np.array([[2, 5, 8], [4, 7, 1]])\n",
    "array_x > 4"
   ]
  },
  {
   "cell_type": "markdown",
   "id": "4df527aa",
   "metadata": {},
   "source": [
    "## Vectorizing Python Codes"
   ]
  },
  {
   "cell_type": "code",
   "execution_count": 9,
   "id": "0d000aa4",
   "metadata": {},
   "outputs": [
    {
     "data": {
      "text/plain": [
       "True"
      ]
     },
     "execution_count": 9,
     "metadata": {},
     "output_type": "execute_result"
    }
   ],
   "source": [
    "#Let's look at the example below:\n",
    "array_n = np.array([\"NumPy\", \"is\", \"nice!\"])\n",
    "len(array_n)>2"
   ]
  },
  {
   "cell_type": "markdown",
   "id": "de1734b6",
   "metadata": {},
   "source": [
    "Above code only gave a single output.\n",
    "\n",
    "It didnot checked if the length of elements of array were larger than 2.\n",
    "\n",
    "But instead checked if there were more than 2 elements on the numpy array or not.\n",
    "\n",
    "This is because *len* is a normal python function.\n",
    "\n",
    "So, we need to convert the function *len* in a manner such that it can perform vectorized operations with numpy arrays.\n",
    "\n",
    "We can achieve that in following manner."
   ]
  },
  {
   "cell_type": "code",
   "execution_count": 10,
   "id": "1e1beb9a",
   "metadata": {},
   "outputs": [],
   "source": [
    "vectorized_len = np.vectorize(len)"
   ]
  },
  {
   "cell_type": "code",
   "execution_count": 11,
   "id": "98a25580",
   "metadata": {},
   "outputs": [
    {
     "data": {
      "text/plain": [
       "array([ True, False,  True])"
      ]
     },
     "execution_count": 11,
     "metadata": {},
     "output_type": "execute_result"
    }
   ],
   "source": [
    "#Check on array_n example again\n",
    "vectorized_len(array_n)>2"
   ]
  },
  {
   "cell_type": "markdown",
   "id": "6b3406af",
   "metadata": {},
   "source": [
    "##############################################################################################\n",
    "##############################################################################################\n",
    "##############################################################################################"
   ]
  },
  {
   "cell_type": "markdown",
   "id": "fe618adf",
   "metadata": {},
   "source": [
    "# Practice Vectorized Operations"
   ]
  },
  {
   "cell_type": "code",
   "execution_count": 12,
   "id": "904b286d",
   "metadata": {},
   "outputs": [],
   "source": [
    "import numpy as np\n",
    "import matplotlib.pyplot as plt"
   ]
  },
  {
   "cell_type": "code",
   "execution_count": 13,
   "id": "8d8d06f1",
   "metadata": {},
   "outputs": [],
   "source": [
    "monthly_sales = np.array([[ 4134, 23925,  8657],\n",
    "       [ 4116, 23875,  9142],\n",
    "       [ 4673, 27197, 10645],\n",
    "       [ 4580, 25637, 10456],\n",
    "       [ 5109, 27995, 11299],\n",
    "       [ 5011, 27419, 10625],\n",
    "       [ 5245, 27305, 10630],\n",
    "       [ 5270, 27760, 11550],\n",
    "       [ 4680, 24988,  9762],\n",
    "       [ 4913, 25802, 10456],\n",
    "       [ 5312, 25405, 13401],\n",
    "       [ 6630, 27797, 18403]])"
   ]
  },
  {
   "cell_type": "code",
   "execution_count": 14,
   "id": "0629de42",
   "metadata": {},
   "outputs": [
    {
     "name": "stdout",
     "output_type": "stream",
     "text": [
      "[[ 206.7  1196.25  432.85]\n",
      " [ 205.8  1193.75  457.1 ]\n",
      " [ 233.65 1359.85  532.25]\n",
      " [ 229.   1281.85  522.8 ]\n",
      " [ 255.45 1399.75  564.95]\n",
      " [ 250.55 1370.95  531.25]\n",
      " [ 262.25 1365.25  531.5 ]\n",
      " [ 263.5  1388.    577.5 ]\n",
      " [ 234.   1249.4   488.1 ]\n",
      " [ 245.65 1290.1   522.8 ]\n",
      " [ 265.6  1270.25  670.05]\n",
      " [ 331.5  1389.85  920.15]]\n"
     ]
    }
   ],
   "source": [
    "# Create an array of tax collected by industry and month\n",
    "tax_collected = monthly_sales * 0.05\n",
    "print(tax_collected)"
   ]
  },
  {
   "cell_type": "code",
   "execution_count": 15,
   "id": "bd8d0126",
   "metadata": {},
   "outputs": [
    {
     "name": "stdout",
     "output_type": "stream",
     "text": [
      "[[ 4340.7  25121.25  9089.85]\n",
      " [ 4321.8  25068.75  9599.1 ]\n",
      " [ 4906.65 28556.85 11177.25]\n",
      " [ 4809.   26918.85 10978.8 ]\n",
      " [ 5364.45 29394.75 11863.95]\n",
      " [ 5261.55 28789.95 11156.25]\n",
      " [ 5507.25 28670.25 11161.5 ]\n",
      " [ 5533.5  29148.   12127.5 ]\n",
      " [ 4914.   26237.4  10250.1 ]\n",
      " [ 5158.65 27092.1  10978.8 ]\n",
      " [ 5577.6  26675.25 14071.05]\n",
      " [ 6961.5  29186.85 19323.15]]\n"
     ]
    }
   ],
   "source": [
    "# Create an array of sales revenue plus tax collected by industry and month\n",
    "total_tax_and_revenue = monthly_sales + tax_collected\n",
    "print(total_tax_and_revenue)"
   ]
  },
  {
   "cell_type": "code",
   "execution_count": 16,
   "id": "6ca840b6",
   "metadata": {},
   "outputs": [],
   "source": [
    "monthly_industry_multipliers = np.array([[0.98, 1.02, 1.  ],\n",
    "       [1.00, 1.01, 0.97],\n",
    "       [1.06, 1.03, 0.98],\n",
    "       [1.08, 1.01, 0.98],\n",
    "       [1.08, 0.98, 0.98],\n",
    "       [1.1 , 0.99, 0.99],\n",
    "       [1.12, 1.01, 1.  ],\n",
    "       [1.1 , 1.02, 1.  ],\n",
    "       [1.11, 1.01, 1.01],\n",
    "       [1.08, 0.99, 0.97],\n",
    "       [1.09, 1.  , 1.02],\n",
    "       [1.13, 1.03, 1.02]])"
   ]
  },
  {
   "cell_type": "code",
   "execution_count": 17,
   "id": "a1924e81",
   "metadata": {},
   "outputs": [
    {
     "name": "stdout",
     "output_type": "stream",
     "text": [
      "[[ 4051.32 24403.5   8657.  ]\n",
      " [ 4116.   24113.75  8867.74]\n",
      " [ 4953.38 28012.91 10432.1 ]\n",
      " [ 4946.4  25893.37 10246.88]\n",
      " [ 5517.72 27435.1  11073.02]\n",
      " [ 5512.1  27144.81 10518.75]\n",
      " [ 5874.4  27578.05 10630.  ]\n",
      " [ 5797.   28315.2  11550.  ]\n",
      " [ 5194.8  25237.88  9859.62]\n",
      " [ 5306.04 25543.98 10142.32]\n",
      " [ 5790.08 25405.   13669.02]\n",
      " [ 7491.9  28630.91 18771.06]]\n"
     ]
    }
   ],
   "source": [
    "# Create an array of monthly projected sales for all industries\n",
    "projected_monthly_sales = monthly_sales * monthly_industry_multipliers\n",
    "print(projected_monthly_sales)"
   ]
  },
  {
   "cell_type": "code",
   "execution_count": 18,
   "id": "e2906144",
   "metadata": {},
   "outputs": [
    {
     "data": {
      "image/png": "[encoded data removed]",
      "text/plain": [
       "<Figure size 432x288 with 1 Axes>"
      ]
     },
     "metadata": {
      "needs_background": "light"
     },
     "output_type": "display_data"
    }
   ],
   "source": [
    "# Graph current liquor store sales and projected liquor store sales by month\n",
    "plt.plot(np.arange(1, 13), monthly_sales[:, 0], label=\"Current liquor store sales\")\n",
    "plt.plot(np.arange(1, 13), projected_monthly_sales[:, 0], label=\"Projected liquor store sales\")\n",
    "plt.legend()\n",
    "plt.show()"
   ]
  },
  {
   "cell_type": "code",
   "execution_count": 19,
   "id": "5499d59d",
   "metadata": {},
   "outputs": [],
   "source": [
    "names = np.array([[\"Izzy\", \"Monica\", \"Marvin\"],\n",
    "                  [\"Weber\", \"Patel\", \"Hernandez\"]])"
   ]
  },
  {
   "cell_type": "code",
   "execution_count": 20,
   "id": "89a252dd",
   "metadata": {},
   "outputs": [
    {
     "name": "stdout",
     "output_type": "stream",
     "text": [
      "[['IZZY' 'MONICA' 'MARVIN']\n",
      " ['WEBER' 'PATEL' 'HERNANDEZ']]\n"
     ]
    }
   ],
   "source": [
    "# Vectorize the .upper() string method\n",
    "vectorized_upper = np.vectorize(str.upper)\n",
    "\n",
    "# Apply vectorized_upper to the names array\n",
    "uppercase_names = vectorized_upper(names)\n",
    "print(uppercase_names)"
   ]
  }
 ],
 "metadata": {
  "kernelspec": {
   "display_name": "Python 3 (ipykernel)",
   "language": "python",
   "name": "python3"
  },
  "language_info": {
   "codemirror_mode": {
    "name": "ipython",
    "version": 3
   },
   "file_extension": ".py",
   "mimetype": "text/x-python",
   "name": "python",
   "nbconvert_exporter": "python",
   "pygments_lexer": "ipython3",
   "version": "3.9.12"
  }
 },
 "nbformat": 4,
 "nbformat_minor": 5
}
