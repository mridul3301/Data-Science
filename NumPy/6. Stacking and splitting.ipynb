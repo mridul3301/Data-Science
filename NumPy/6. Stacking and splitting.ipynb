{
 "cells": [
  {
   "cell_type": "markdown",
   "id": "0c78f138",
   "metadata": {},
   "source": [
    "Uderstand how can we reshape our data is very critical for various operations.\n",
    "\n",
    "A key part of reshaping is adding and removing dimensions while keeping the underlying data intact."
   ]
  },
  {
   "cell_type": "code",
   "execution_count": 1,
   "id": "1a63c433",
   "metadata": {},
   "outputs": [],
   "source": [
    "import numpy as np\n",
    "import matplotlib.pyplot as plt"
   ]
  },
  {
   "cell_type": "code",
   "execution_count": 2,
   "id": "4e0a4ec2",
   "metadata": {},
   "outputs": [
    {
     "data": {
      "image/png": "[encoded data removed]",
      "text/plain": [
       "<Figure size 432x288 with 1 Axes>"
      ]
     },
     "metadata": {
      "needs_background": "light"
     },
     "output_type": "display_data"
    }
   ],
   "source": [
    "rgb_array = np.array([[[255, 0, 0], [255, 255, 0], [255, 255, 255]],\n",
    "               [[255, 0, 255], [0, 255, 0], [0, 255, 255]],\n",
    "               [[0, 0, 0], [0, 255, 255], [0, 0, 255]]])\n",
    "\n",
    "plt.imshow(rgb_array)\n",
    "plt.show()"
   ]
  },
  {
   "cell_type": "code",
   "execution_count": 3,
   "id": "d3fdec0f",
   "metadata": {},
   "outputs": [],
   "source": [
    "red_array = rgb_array[:, :, 0]\n",
    "blue_array = rgb_array[:, :, 1]\n",
    "green_array = rgb_array[:, :, 2]"
   ]
  },
  {
   "cell_type": "code",
   "execution_count": 4,
   "id": "5a494f0b",
   "metadata": {},
   "outputs": [
    {
     "data": {
      "text/plain": [
       "array([[255, 255, 255],\n",
       "       [255,   0,   0],\n",
       "       [  0,   0,   0]])"
      ]
     },
     "execution_count": 4,
     "metadata": {},
     "output_type": "execute_result"
    }
   ],
   "source": [
    "red_array"
   ]
  },
  {
   "cell_type": "markdown",
   "id": "6418c14e",
   "metadata": {},
   "source": [
    "#### Splitting arrays"
   ]
  },
  {
   "cell_type": "code",
   "execution_count": 5,
   "id": "dd8df19b",
   "metadata": {},
   "outputs": [
    {
     "data": {
      "text/plain": [
       "array([[255, 255, 255],\n",
       "       [255,   0,   0],\n",
       "       [  0,   0,   0]])"
      ]
     },
     "execution_count": 5,
     "metadata": {},
     "output_type": "execute_result"
    }
   ],
   "source": [
    "red_array; green_array; blue_array = np.split(rgb_array, 3, axis = 2)\n",
    "red_array"
   ]
  },
  {
   "cell_type": "code",
   "execution_count": 6,
   "id": "67f16036",
   "metadata": {},
   "outputs": [
    {
     "data": {
      "text/plain": [
       "(3, 3)"
      ]
     },
     "execution_count": 6,
     "metadata": {},
     "output_type": "execute_result"
    }
   ],
   "source": [
    "red_array.shape"
   ]
  },
  {
   "cell_type": "markdown",
   "id": "3a7deb15",
   "metadata": {},
   "source": [
    "#### Trailing dimensions"
   ]
  },
  {
   "cell_type": "code",
   "execution_count": 7,
   "id": "450ca645",
   "metadata": {},
   "outputs": [
    {
     "data": {
      "text/plain": [
       "array([[255, 255, 255],\n",
       "       [255,   0,   0],\n",
       "       [  0,   0,   0]])"
      ]
     },
     "execution_count": 7,
     "metadata": {},
     "output_type": "execute_result"
    }
   ],
   "source": [
    "red_array_2D = red_array.reshape((3, 3))\n",
    "red_array_2D"
   ]
  },
  {
   "cell_type": "code",
   "execution_count": 8,
   "id": "caba4258",
   "metadata": {},
   "outputs": [
    {
     "data": {
      "text/plain": [
       "(3, 3)"
      ]
     },
     "execution_count": 8,
     "metadata": {},
     "output_type": "execute_result"
    }
   ],
   "source": [
    "red_array_2D.shape"
   ]
  },
  {
   "cell_type": "markdown",
   "id": "fb4cace4",
   "metadata": {},
   "source": [
    "#### Plotting 2D image data"
   ]
  },
  {
   "cell_type": "code",
   "execution_count": 9,
   "id": "5f5fff46",
   "metadata": {},
   "outputs": [
    {
     "data": {
      "image/png": "[encoded data removed]",
      "text/plain": [
       "<Figure size 432x288 with 1 Axes>"
      ]
     },
     "metadata": {
      "needs_background": "light"
     },
     "output_type": "display_data"
    }
   ],
   "source": [
    "red_array, green_array, blue_array = np.split(rgb_array, 3, axis=2)\n",
    "plt.imshow(red_array)\n",
    "plt.show()\n"
   ]
  }
 ],
 "metadata": {
  "kernelspec": {
   "display_name": "Python 3 (ipykernel)",
   "language": "python",
   "name": "python3"
  },
  "language_info": {
   "codemirror_mode": {
    "name": "ipython",
    "version": 3
   },
   "file_extension": ".py",
   "mimetype": "text/x-python",
   "name": "python",
   "nbconvert_exporter": "python",
   "pygments_lexer": "ipython3",
   "version": "3.9.12"
  }
 },
 "nbformat": 4,
 "nbformat_minor": 5
}
