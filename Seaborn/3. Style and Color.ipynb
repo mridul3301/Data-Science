{
 "cells": [
  {
   "cell_type": "markdown",
   "id": "6885cf4c",
   "metadata": {},
   "source": [
    "Choosing the right type of plot is only the first step in creating effective visualizations. It is also important to configure the other aspects of our visualizations such as the layouts, labels, and colors. These traits are referred to as the visualization's aesthetics."
   ]
  },
  {
   "cell_type": "code",
   "execution_count": 1,
   "id": "223b3277",
   "metadata": {},
   "outputs": [],
   "source": [
    "# import all modules\n",
    "import pandas as pd\n",
    "import seaborn as sns\n",
    "import matplotlib.pyplot as plt\n",
    "\n",
    "# Read in the DataFrame\n",
    "df = pd.read_csv(\"https://assets.datacamp.com/production/repositories/2210/datasets/a1fb97d60bfbcf0661e320a35a4615f4e8661a68/FY18_4050_FMRs.csv\")"
   ]
  },
  {
   "cell_type": "code",
   "execution_count": 2,
   "id": "4b25d80f",
   "metadata": {},
   "outputs": [
    {
     "data": {
      "text/html": [
       "<div>\n",
       "<style scoped>\n",
       "    .dataframe tbody tr th:only-of-type {\n",
       "        vertical-align: middle;\n",
       "    }\n",
       "\n",
       "    .dataframe tbody tr th {\n",
       "        vertical-align: top;\n",
       "    }\n",
       "\n",
       "    .dataframe thead th {\n",
       "        text-align: right;\n",
       "    }\n",
       "</style>\n",
       "<table border=\"1\" class=\"dataframe\">\n",
       "  <thead>\n",
       "    <tr style=\"text-align: right;\">\n",
       "      <th></th>\n",
       "      <th>fips2010</th>\n",
       "      <th>fmr_0</th>\n",
       "      <th>fmr_1</th>\n",
       "      <th>fmr_2</th>\n",
       "      <th>fmr_3</th>\n",
       "      <th>fmr_4</th>\n",
       "      <th>state</th>\n",
       "      <th>metro_code</th>\n",
       "      <th>areaname</th>\n",
       "      <th>county</th>\n",
       "      <th>cousub</th>\n",
       "      <th>countyname</th>\n",
       "      <th>county_town_name</th>\n",
       "      <th>pop2010</th>\n",
       "      <th>acs_2017_2</th>\n",
       "      <th>state_alpha</th>\n",
       "      <th>fmr_type</th>\n",
       "      <th>metro</th>\n",
       "      <th>fmr_pct_chg</th>\n",
       "      <th>fmr_dollar_chg</th>\n",
       "    </tr>\n",
       "  </thead>\n",
       "  <tbody>\n",
       "    <tr>\n",
       "      <th>0</th>\n",
       "      <td>100199999</td>\n",
       "      <td>588</td>\n",
       "      <td>691</td>\n",
       "      <td>829</td>\n",
       "      <td>1055</td>\n",
       "      <td>1451</td>\n",
       "      <td>1</td>\n",
       "      <td>METRO33860M33860</td>\n",
       "      <td>Montgomery, AL MSA</td>\n",
       "      <td>1</td>\n",
       "      <td>99999</td>\n",
       "      <td>Autauga County</td>\n",
       "      <td>Autauga County</td>\n",
       "      <td>54571.0</td>\n",
       "      <td>822</td>\n",
       "      <td>AL</td>\n",
       "      <td>40</td>\n",
       "      <td>1</td>\n",
       "      <td>0.008516</td>\n",
       "      <td>7</td>\n",
       "    </tr>\n",
       "    <tr>\n",
       "      <th>1</th>\n",
       "      <td>100399999</td>\n",
       "      <td>729</td>\n",
       "      <td>762</td>\n",
       "      <td>879</td>\n",
       "      <td>1280</td>\n",
       "      <td>1471</td>\n",
       "      <td>1</td>\n",
       "      <td>METRO19300M19300</td>\n",
       "      <td>Daphne-Fairhope-Foley, AL MSA</td>\n",
       "      <td>3</td>\n",
       "      <td>99999</td>\n",
       "      <td>Baldwin County</td>\n",
       "      <td>Baldwin County</td>\n",
       "      <td>182265.0</td>\n",
       "      <td>977</td>\n",
       "      <td>AL</td>\n",
       "      <td>40</td>\n",
       "      <td>1</td>\n",
       "      <td>-0.100307</td>\n",
       "      <td>-98</td>\n",
       "    </tr>\n",
       "    <tr>\n",
       "      <th>2</th>\n",
       "      <td>100599999</td>\n",
       "      <td>491</td>\n",
       "      <td>494</td>\n",
       "      <td>657</td>\n",
       "      <td>824</td>\n",
       "      <td>929</td>\n",
       "      <td>1</td>\n",
       "      <td>NCNTY01005N01005</td>\n",
       "      <td>Barbour County, AL</td>\n",
       "      <td>5</td>\n",
       "      <td>99999</td>\n",
       "      <td>Barbour County</td>\n",
       "      <td>Barbour County</td>\n",
       "      <td>27457.0</td>\n",
       "      <td>671</td>\n",
       "      <td>AL</td>\n",
       "      <td>40</td>\n",
       "      <td>0</td>\n",
       "      <td>-0.020864</td>\n",
       "      <td>-14</td>\n",
       "    </tr>\n",
       "    <tr>\n",
       "      <th>3</th>\n",
       "      <td>100799999</td>\n",
       "      <td>692</td>\n",
       "      <td>768</td>\n",
       "      <td>882</td>\n",
       "      <td>1176</td>\n",
       "      <td>1315</td>\n",
       "      <td>1</td>\n",
       "      <td>METRO13820M13820</td>\n",
       "      <td>Birmingham-Hoover, AL HUD Metro FMR Area</td>\n",
       "      <td>7</td>\n",
       "      <td>99999</td>\n",
       "      <td>Bibb County</td>\n",
       "      <td>Bibb County</td>\n",
       "      <td>22915.0</td>\n",
       "      <td>866</td>\n",
       "      <td>AL</td>\n",
       "      <td>40</td>\n",
       "      <td>1</td>\n",
       "      <td>0.018476</td>\n",
       "      <td>16</td>\n",
       "    </tr>\n",
       "    <tr>\n",
       "      <th>4</th>\n",
       "      <td>100999999</td>\n",
       "      <td>692</td>\n",
       "      <td>768</td>\n",
       "      <td>882</td>\n",
       "      <td>1176</td>\n",
       "      <td>1315</td>\n",
       "      <td>1</td>\n",
       "      <td>METRO13820M13820</td>\n",
       "      <td>Birmingham-Hoover, AL HUD Metro FMR Area</td>\n",
       "      <td>9</td>\n",
       "      <td>99999</td>\n",
       "      <td>Blount County</td>\n",
       "      <td>Blount County</td>\n",
       "      <td>57322.0</td>\n",
       "      <td>866</td>\n",
       "      <td>AL</td>\n",
       "      <td>40</td>\n",
       "      <td>1</td>\n",
       "      <td>0.018476</td>\n",
       "      <td>16</td>\n",
       "    </tr>\n",
       "  </tbody>\n",
       "</table>\n",
       "</div>"
      ],
      "text/plain": [
       "    fips2010  fmr_0  fmr_1  fmr_2  fmr_3  fmr_4  state        metro_code  \\\n",
       "0  100199999    588    691    829   1055   1451      1  METRO33860M33860   \n",
       "1  100399999    729    762    879   1280   1471      1  METRO19300M19300   \n",
       "2  100599999    491    494    657    824    929      1  NCNTY01005N01005   \n",
       "3  100799999    692    768    882   1176   1315      1  METRO13820M13820   \n",
       "4  100999999    692    768    882   1176   1315      1  METRO13820M13820   \n",
       "\n",
       "                                   areaname  county  cousub      countyname  \\\n",
       "0                        Montgomery, AL MSA       1   99999  Autauga County   \n",
       "1             Daphne-Fairhope-Foley, AL MSA       3   99999  Baldwin County   \n",
       "2                        Barbour County, AL       5   99999  Barbour County   \n",
       "3  Birmingham-Hoover, AL HUD Metro FMR Area       7   99999     Bibb County   \n",
       "4  Birmingham-Hoover, AL HUD Metro FMR Area       9   99999   Blount County   \n",
       "\n",
       "  county_town_name   pop2010  acs_2017_2 state_alpha  fmr_type  metro  \\\n",
       "0   Autauga County   54571.0         822          AL        40      1   \n",
       "1   Baldwin County  182265.0         977          AL        40      1   \n",
       "2   Barbour County   27457.0         671          AL        40      0   \n",
       "3      Bibb County   22915.0         866          AL        40      1   \n",
       "4    Blount County   57322.0         866          AL        40      1   \n",
       "\n",
       "   fmr_pct_chg  fmr_dollar_chg  \n",
       "0     0.008516               7  \n",
       "1    -0.100307             -98  \n",
       "2    -0.020864             -14  \n",
       "3     0.018476              16  \n",
       "4     0.018476              16  "
      ]
     },
     "execution_count": 2,
     "metadata": {},
     "output_type": "execute_result"
    }
   ],
   "source": [
    "df.head()"
   ]
  },
  {
   "cell_type": "markdown",
   "id": "05a1cc3b",
   "metadata": {},
   "source": [
    "seaborn has default configuration styles that can be applied using *__sns.set()__* . The default seaborn style is called *darkgrid*"
   ]
  },
  {
   "cell_type": "code",
   "execution_count": 3,
   "id": "47e65494",
   "metadata": {},
   "outputs": [
    {
     "data": {
      "image/png": "[encoded data removed]",
      "text/plain": [
       "<Figure size 432x288 with 1 Axes>"
      ]
     },
     "metadata": {
      "needs_background": "light"
     },
     "output_type": "display_data"
    },
    {
     "data": {
      "image/png": "[encoded data removed]",
      "text/plain": [
       "<Figure size 432x288 with 1 Axes>"
      ]
     },
     "metadata": {
      "needs_background": "light"
     },
     "output_type": "display_data"
    },
    {
     "data": {
      "text/plain": [
       "<Figure size 432x288 with 0 Axes>"
      ]
     },
     "metadata": {},
     "output_type": "display_data"
    }
   ],
   "source": [
    "# Plot the pandas histogram\n",
    "df['fmr_2'].plot.hist()\n",
    "plt.show()\n",
    "plt.clf()\n",
    "\n",
    "# Set the default seaborn style\n",
    "sns.set()\n",
    "\n",
    "# Plot the pandas histogram again\n",
    "df['fmr_2'].plot.hist()\n",
    "plt.show()\n",
    "plt.clf()"
   ]
  },
  {
   "cell_type": "markdown",
   "id": "e105c3b3",
   "metadata": {},
   "source": [
    "Styles control multiple aspects of the final plot including the color palette and the use of grid lines or tick marks. We can choose style using *__sns.set_style(style_name)__*"
   ]
  },
  {
   "cell_type": "code",
   "execution_count": 4,
   "id": "ec89e306",
   "metadata": {
    "scrolled": true
   },
   "outputs": [
    {
     "data": {
      "image/png": "[encoded data removed]",
      "text/plain": [
       "<Figure size 360x360 with 1 Axes>"
      ]
     },
     "metadata": {},
     "output_type": "display_data"
    },
    {
     "data": {
      "text/plain": [
       "<Figure size 432x288 with 0 Axes>"
      ]
     },
     "metadata": {},
     "output_type": "display_data"
    }
   ],
   "source": [
    "#Setting style as dark\n",
    "sns.set_style('dark')\n",
    "\n",
    "#plotting using displot\n",
    "sns.displot(df['fmr_2'])\n",
    "plt.show()\n",
    "plt.clf()"
   ]
  },
  {
   "cell_type": "code",
   "execution_count": 5,
   "id": "d1b89bfb",
   "metadata": {},
   "outputs": [
    {
     "data": {
      "image/png": "[encoded data removed]",
      "text/plain": [
       "<Figure size 360x360 with 1 Axes>"
      ]
     },
     "metadata": {},
     "output_type": "display_data"
    },
    {
     "data": {
      "text/plain": [
       "<Figure size 432x288 with 0 Axes>"
      ]
     },
     "metadata": {},
     "output_type": "display_data"
    }
   ],
   "source": [
    "#Setting style as whitegrid\n",
    "sns.set_style('whitegrid')\n",
    "\n",
    "#plotting using displot\n",
    "sns.displot(df['fmr_2'])\n",
    "plt.show()\n",
    "plt.clf()"
   ]
  },
  {
   "cell_type": "markdown",
   "id": "b6e66c35",
   "metadata": {},
   "source": [
    "The best approach is to experiment with the styles and use the one that works best for your needs. "
   ]
  },
  {
   "cell_type": "markdown",
   "id": "7ab6cdc3",
   "metadata": {},
   "source": [
    "In general, visualizations are more impactful if the amount of excess \"chart junk\" is removed. A common use case is to remove the lines around the axes called spines. \n",
    "\n",
    "We can accomplish this by using *__sns.despine(args)__* . By default, this removes top and right spines of a graph."
   ]
  },
  {
   "cell_type": "code",
   "execution_count": 6,
   "id": "76db5733",
   "metadata": {},
   "outputs": [
    {
     "data": {
      "image/png": "[encoded data removed]",
      "text/plain": [
       "<Figure size 360x360 with 1 Axes>"
      ]
     },
     "metadata": {},
     "output_type": "display_data"
    },
    {
     "data": {
      "text/plain": [
       "<Figure size 432x288 with 0 Axes>"
      ]
     },
     "metadata": {},
     "output_type": "display_data"
    }
   ],
   "source": [
    "# Set the style to white\n",
    "sns.set_style('white')\n",
    "\n",
    "# Create a regression plot\n",
    "sns.lmplot(data=df,\n",
    "           x='pop2010',\n",
    "           y='fmr_2')\n",
    "\n",
    "# Remove top and right spines\n",
    "sns.despine()\n",
    "\n",
    "# Show the plot and clear the figure\n",
    "plt.show()\n",
    "plt.clf()"
   ]
  },
  {
   "cell_type": "markdown",
   "id": "4b78f240",
   "metadata": {},
   "source": [
    "### Using Colors"
   ]
  },
  {
   "cell_type": "markdown",
   "id": "a0818ca5",
   "metadata": {},
   "source": [
    "By using the familiar sns.set() function with color codes equals True, i.e. *__sns.set(color_codes = True)__* any matplotlib color codes will be appropriately mapped to the Seaborn palette. "
   ]
  },
  {
   "cell_type": "markdown",
   "id": "eddb885a",
   "metadata": {},
   "source": [
    "Seaborn allows us to set a palette of colors that can be cycled through in a plot. Seaborn has six default palettes including deep, muted, pastel, bright, dark, and colorblind. We can achieve this using: *__sns.set_palette(palette_name)__* ."
   ]
  },
  {
   "cell_type": "markdown",
   "id": "c011fd84",
   "metadata": {},
   "source": [
    "*__sns.palplot__* function displays a palette.\n",
    "\n",
    "*__sns.color_palette__* returns the current palette."
   ]
  },
  {
   "cell_type": "code",
   "execution_count": 7,
   "id": "23bc98d0",
   "metadata": {},
   "outputs": [
    {
     "data": {
      "image/png": "[encoded data removed]",
      "text/plain": [
       "<Figure size 720x72 with 1 Axes>"
      ]
     },
     "metadata": {},
     "output_type": "display_data"
    },
    {
     "data": {
      "image/png": "[encoded data removed]",
      "text/plain": [
       "<Figure size 720x72 with 1 Axes>"
      ]
     },
     "metadata": {},
     "output_type": "display_data"
    },
    {
     "data": {
      "image/png": "[encoded data removed]",
      "text/plain": [
       "<Figure size 720x72 with 1 Axes>"
      ]
     },
     "metadata": {},
     "output_type": "display_data"
    },
    {
     "data": {
      "image/png": "[encoded data removed]",
      "text/plain": [
       "<Figure size 720x72 with 1 Axes>"
      ]
     },
     "metadata": {},
     "output_type": "display_data"
    },
    {
     "data": {
      "image/png": "[encoded data removed]",
      "text/plain": [
       "<Figure size 720x72 with 1 Axes>"
      ]
     },
     "metadata": {},
     "output_type": "display_data"
    },
    {
     "data": {
      "image/png": "[encoded data removed]",
      "text/plain": [
       "<Figure size 720x72 with 1 Axes>"
      ]
     },
     "metadata": {},
     "output_type": "display_data"
    }
   ],
   "source": [
    "palettes = ['deep', 'muted', 'pastel', 'bright','dark','colorblind']\n",
    "\n",
    "for p in palettes:    \n",
    "    sns.set_palette(p)    \n",
    "    sns.palplot(sns.color_palette())    \n",
    "    plt.show()\n"
   ]
  },
  {
   "attachments": {
    "image-2.png": {
     "image/png": "[encoded data removed]"
    },
    "image-3.png": {
     "image/png": "[encoded data removed]"
    },
    "image.png": {
     "image/png": "[encoded data removed]"
    }
   },
   "cell_type": "markdown",
   "id": "bb733cb4",
   "metadata": {},
   "source": [
    "There are three main types of color palettes:\n",
    "\n",
    "1. Circular color palettes are used for categorical data that is not ordered.\n",
    "   ![image.png](attachment:image.png)\n",
    "\n",
    "2. Sequential palettes are useful when the data has a consistent range from high to low values.\n",
    "![image-2.png](attachment:image-2.png)\n",
    "\n",
    "3. A diverging color palette is best used when both the high and the low values are interesting.\n",
    "![image-3.png](attachment:image-3.png)"
   ]
  },
  {
   "cell_type": "code",
   "execution_count": 13,
   "id": "438dbdd8",
   "metadata": {},
   "outputs": [
    {
     "data": {
      "image/png": "[encoded data removed]",
      "text/plain": [
       "<Figure size 864x72 with 1 Axes>"
      ]
     },
     "metadata": {},
     "output_type": "display_data"
    }
   ],
   "source": [
    "#Circular\n",
    "sns.palplot(sns.color_palette(\"Paired\", 12))"
   ]
  },
  {
   "cell_type": "code",
   "execution_count": 12,
   "id": "f51bd9e5",
   "metadata": {
    "scrolled": true
   },
   "outputs": [
    {
     "data": {
      "image/png": "[encoded data removed]",
      "text/plain": [
       "<Figure size 864x72 with 1 Axes>"
      ]
     },
     "metadata": {},
     "output_type": "display_data"
    }
   ],
   "source": [
    "#Sequential\n",
    "sns.palplot(sns.color_palette(\"Blues\", 12))"
   ]
  },
  {
   "cell_type": "code",
   "execution_count": 11,
   "id": "a5295042",
   "metadata": {},
   "outputs": [
    {
     "data": {
      "image/png": "[encoded data removed]",
      "text/plain": [
       "<Figure size 864x72 with 1 Axes>"
      ]
     },
     "metadata": {},
     "output_type": "display_data"
    }
   ],
   "source": [
    "#Diverging\n",
    "sns.palplot(sns.color_palette(\"BrBG\", 12))"
   ]
  },
  {
   "cell_type": "markdown",
   "id": "9d224abb",
   "metadata": {},
   "source": [
    "#### Practicing"
   ]
  },
  {
   "cell_type": "code",
   "execution_count": 14,
   "id": "f53c43b4",
   "metadata": {},
   "outputs": [
    {
     "data": {
      "image/png": "[encoded data removed]",
      "text/plain": [
       "<Figure size 360x360 with 1 Axes>"
      ]
     },
     "metadata": {},
     "output_type": "display_data"
    }
   ],
   "source": [
    "# Set style, enable color code, and create a magenta displot\n",
    "sns.set(color_codes=True)\n",
    "sns.displot(df['fmr_3'], color='m')\n",
    "\n",
    "# Show the plot\n",
    "plt.show()"
   ]
  },
  {
   "cell_type": "code",
   "execution_count": 15,
   "id": "57a19410",
   "metadata": {},
   "outputs": [
    {
     "data": {
      "image/png": "[encoded data removed]",
      "text/plain": [
       "<Figure size 360x360 with 1 Axes>"
      ]
     },
     "metadata": {},
     "output_type": "display_data"
    },
    {
     "data": {
      "text/plain": [
       "<Figure size 432x288 with 0 Axes>"
      ]
     },
     "metadata": {},
     "output_type": "display_data"
    },
    {
     "data": {
      "image/png": "[encoded data removed]",
      "text/plain": [
       "<Figure size 360x360 with 1 Axes>"
      ]
     },
     "metadata": {},
     "output_type": "display_data"
    },
    {
     "data": {
      "text/plain": [
       "<Figure size 432x288 with 0 Axes>"
      ]
     },
     "metadata": {},
     "output_type": "display_data"
    }
   ],
   "source": [
    "# Loop through differences between bright and colorblind palettes\n",
    "for p in ['bright', 'colorblind']:\n",
    "    sns.set_palette(p)\n",
    "    sns.displot(df['fmr_3'])\n",
    "    plt.show()\n",
    "    \n",
    "    # Clear the plots    \n",
    "    plt.clf()"
   ]
  },
  {
   "cell_type": "code",
   "execution_count": 16,
   "id": "4b081939",
   "metadata": {},
   "outputs": [
    {
     "data": {
      "image/png": "[encoded data removed]",
      "text/plain": [
       "<Figure size 576x72 with 1 Axes>"
      ]
     },
     "metadata": {},
     "output_type": "display_data"
    }
   ],
   "source": [
    "#Purple sequential color palette containing 8 colors\n",
    "sns.palplot(sns.color_palette(\"Purples\", 8))\n",
    "plt.show()\n"
   ]
  },
  {
   "cell_type": "code",
   "execution_count": 17,
   "id": "bba0d20b",
   "metadata": {},
   "outputs": [
    {
     "data": {
      "image/png": "[encoded data removed]",
      "text/plain": [
       "<Figure size 720x72 with 1 Axes>"
      ]
     },
     "metadata": {},
     "output_type": "display_data"
    }
   ],
   "source": [
    "# palette containing 10 colors using husl system\n",
    "sns.palplot(sns.color_palette(\"husl\", 10))\n",
    "plt.show()"
   ]
  },
  {
   "cell_type": "code",
   "execution_count": 18,
   "id": "cc992aa7",
   "metadata": {},
   "outputs": [
    {
     "data": {
      "image/png": "[encoded data removed]",
      "text/plain": [
       "<Figure size 432x72 with 1 Axes>"
      ]
     },
     "metadata": {},
     "output_type": "display_data"
    }
   ],
   "source": [
    "#Diverging Palette with 6 colors\n",
    "\n",
    "sns.palplot(sns.color_palette(\"coolwarm\", 6))"
   ]
  }
 ],
 "metadata": {
  "kernelspec": {
   "display_name": "Python 3 (ipykernel)",
   "language": "python",
   "name": "python3"
  },
  "language_info": {
   "codemirror_mode": {
    "name": "ipython",
    "version": 3
   },
   "file_extension": ".py",
   "mimetype": "text/x-python",
   "name": "python",
   "nbconvert_exporter": "python",
   "pygments_lexer": "ipython3",
   "version": "3.9.12"
  }
 },
 "nbformat": 4,
 "nbformat_minor": 5
}
